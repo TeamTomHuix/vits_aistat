{
 "cells": [
  {
   "cell_type": "code",
   "execution_count": 84,
   "id": "e17097e8-7088-4781-8190-a27717c8aee6",
   "metadata": {},
   "outputs": [],
   "source": [
    "import numpy as np\n",
    "import matplotlib.pyplot as plt\n",
    "from tqdm.notebook import tqdm\n",
    "import seaborn as sns\n",
    "import pandas as pd\n",
    "from time import time"
   ]
  },
  {
   "cell_type": "code",
   "execution_count": 85,
   "id": "bf84c92e-e40b-4941-816e-e4780a1aa744",
   "metadata": {},
   "outputs": [],
   "source": [
    "info = {\n",
    "    'd': 10,\n",
    "    'cond':3,\n",
    "    'h': 2e-3,\n",
    "    'eps': 0.5,\n",
    "    'max_iter': 50000,\n",
    "    'lmin': 1\n",
    "    }"
   ]
  },
  {
   "cell_type": "code",
   "execution_count": 86,
   "id": "168a4801-70fa-402d-a15a-2db1562ff14c",
   "metadata": {},
   "outputs": [],
   "source": [
    "def generate_cov_matrix(dimension, cond, lmin):\n",
    "    x = np.random.normal(0, 1, size=(dimension, 100))\n",
    "    x /= np.linalg.norm(x, ord=2, axis=1, keepdims=True)\n",
    "    M = x @ x.T\n",
    "    values, vector = np.linalg.eig(M)\n",
    "    values = values.real\n",
    "    vector = vector.real\n",
    "    D = np.diag(np.linspace(lmin, lmin * cond, dimension))\n",
    "    return vector @ D @ vector.T"
   ]
  },
  {
   "cell_type": "code",
   "execution_count": 101,
   "id": "d6476452-22e2-46b9-b573-02ad623f466e",
   "metadata": {},
   "outputs": [],
   "source": [
    "\n",
    "class LMC(object):\n",
    "    def __init__(self, dimension):\n",
    "        self.dimension = dimension\n",
    "        \n",
    "    def gradient(self, theta, mean, cov_inv):\n",
    "        return cov_inv @ (theta - mean)\n",
    "        \n",
    "    def update(self, theta, gradient, h):\n",
    "        noise = np.sqrt(2 * h) * np.random.normal(0, 1, size=(self.dimension,))\n",
    "        return theta - h * gradient +  noise \n",
    "        \n",
    "    def run(self, h, max_iter, mean, cov_inv):\n",
    "        theta0 = np.random.normal(0, 1, size=(self.dimension,))\n",
    "        thetas = [theta0]\n",
    "        theta = theta0\n",
    "        for nb_iter in range(max_iter):\n",
    "            grad = self.gradient(theta, mean, cov_inv)\n",
    "            theta = self.update(theta, grad, h)\n",
    "            thetas.append(theta)\n",
    "        return theta0, np.array(thetas)\n",
    "    \n",
    "    def get_kl(self, thetas, mean_post, cov_post, cov_post_inv):\n",
    "        mean_var_post = np.mean(thetas, axis=0)\n",
    "        cov_var_post = np.cov(thetas.T)\n",
    "        log_term = np.log(np.linalg.det(cov_post) / np.linalg.det(cov_var_post))\n",
    "        mean_term = (mean_post - mean_var_post).T @ cov_post_inv @ (mean_post - mean_var_post)\n",
    "        trace_term = np.trace(cov_post_inv @ cov_var_post)\n",
    "        return 0.5 * (log_term - self.dimension +  mean_term  + trace_term)\n",
    "    \n",
    "    def run_eps(self, h, max_iter, eps, mean_post, cov_post, cov_inv_post):\n",
    "        theta = np.random.normal(0, 1, size=(self.dimension,))\n",
    "        nb_iter, distance = 0, None\n",
    "        thetas = []\n",
    "        distances = []\n",
    "        while distance == None or (nb_iter < max_iter and distance > eps):\n",
    "            grad = self.gradient(theta, mean_post, cov_inv_post)\n",
    "            theta = self.update(theta, grad, h)\n",
    "            nb_iter += 1 \n",
    "            if nb_iter > 1000:\n",
    "                thetas.append(theta)\n",
    "                if nb_iter % 500 == 0:\n",
    "                    distance = self.get_kl(np.array(thetas), mean_post, cov_post, cov_inv_post)\n",
    "                    distances.append(distance)\n",
    "        return nb_iter, distances\n",
    "\n",
    "\n",
    "class VIGaussian(object):\n",
    "\n",
    "    def __init__(self, dimension, approx, second_order):\n",
    "        self.dimension = dimension\n",
    "        self.approx = approx\n",
    "        self.second_order = second_order\n",
    "\n",
    "    def gradient(self, theta, mean, cov_inv):\n",
    "        return  cov_inv @ (theta - mean)\n",
    "        \n",
    "    def update_mean(self, mean, gradient, hessian, h):\n",
    "        if self.second_order:\n",
    "            return mean - (hessian @ gradient)\n",
    "        else:\n",
    "            return mean - h * gradient\n",
    "            \n",
    "    \n",
    "    def update_cov(self, cov_semi, cov_semi_inv, cov_post_inv, h):\n",
    "        cov_semi = (np.eye(self.dimension) - h * cov_post_inv) @ cov_semi + h * cov_semi_inv.T\n",
    "        if self.approx:\n",
    "            cov_semi_inv = cov_semi_inv @ (np.eye(self.dimension) - h * (np.matmul(cov_semi_inv.T , cov_semi_inv) - cov_post_inv))\n",
    "        else:\n",
    "            cov_semi_inv = np.linalg.pinv(cov_semi)\n",
    "        return cov_semi, cov_semi_inv\n",
    "    \n",
    "    def sample(self, mean, cov_semi):\n",
    "        eps = np.random.normal( size=(self.dimension, 1))\n",
    "        theta = mean.T + (cov_semi @ eps).squeeze()\n",
    "        return  theta.squeeze()\n",
    "    \n",
    "    def run(self, h, max_iter, mean_post, cov_inv_post):\n",
    "        mean = np.zeros(self.dimension)\n",
    "        cov_semi = np.eye(self.dimension)\n",
    "        cov_semi_inv = np.eye(self.dimension)\n",
    "        means, covs = [mean], [cov_semi.T @ cov_semi]\n",
    "        for nb_iter in range(max_iter):\n",
    "            theta = self.sample(mean, cov_semi)\n",
    "            grad = self.gradient(theta, mean_post, cov_inv_post)\n",
    "            cov_semi, cov_semi_inv = self.update_cov(cov_semi, cov_semi_inv, cov_inv_post, h)\n",
    "            mean = self.update_mean(mean, grad, cov_inv_post, h)\n",
    "            means.append(mean)\n",
    "            covs.append(cov_semi.T @ cov_semi)\n",
    "        return np.array(means), np.array(covs)\n",
    "    \n",
    "    def get_kl(self, mean_var_post, cov_var_post, mean_post, cov_post, cov_post_inv):\n",
    "        log_term = np.log(np.linalg.det(cov_post) / np.linalg.det(cov_var_post))\n",
    "        mean_term = (mean_post - mean_var_post).T @ cov_post_inv @ (mean_post - mean_var_post)\n",
    "        trace_term = np.trace(cov_post_inv @ cov_var_post)\n",
    "        return 0.5 * (log_term - self.dimension +  mean_term  + trace_term)\n",
    "    \n",
    "    def run_eps(self, h, max_iter, eps, mean_post, cov_post, cov_inv_post):\n",
    "        mean = np.zeros(self.dimension)\n",
    "        cov_semi = np.eye(self.dimension)\n",
    "        cov_semi_inv = np.eye(self.dimension)\n",
    "        distance = self.get_kl(mean, (cov_semi.T @ cov_semi), mean_post, cov_post, cov_inv_post)\n",
    "        distances = [distance]\n",
    "        nb_iter = 0\n",
    "        while nb_iter < max_iter and distance > eps:\n",
    "            theta = self.sample(mean, cov_semi)\n",
    "            grad = self.gradient(theta, mean_post, cov_inv_post)\n",
    "            cov_semi, cov_semi_inv = self.update_cov(cov_semi, cov_semi_inv, cov_inv_post, h)\n",
    "            mean = self.update_mean(mean, grad, cov_post, h)\n",
    "            distance = self.get_kl(mean, (cov_semi.T @ cov_semi), mean_post, cov_post, cov_inv_post)\n",
    "            distances.append(distance)\n",
    "            nb_iter += 1 \n",
    "        return nb_iter, distances\n",
    "   "
   ]
  },
  {
   "cell_type": "code",
   "execution_count": 102,
   "id": "8f336cc3-d13d-46d2-a652-be4ce57fdec1",
   "metadata": {},
   "outputs": [
    {
     "data": {
      "application/vnd.jupyter.widget-view+json": {
       "model_id": "d810bf73ae054491aac6074a84a0d750",
       "version_major": 2,
       "version_minor": 0
      },
      "text/plain": [
       "HBox(children=(FloatProgress(value=0.0, max=50.0), HTML(value='')))"
      ]
     },
     "metadata": {},
     "output_type": "display_data"
    },
    {
     "name": "stdout",
     "output_type": "stream",
     "text": [
      "\n"
     ]
    },
    {
     "data": {
      "application/vnd.jupyter.widget-view+json": {
       "model_id": "9d5de40b5745491689b719653c95b4a5",
       "version_major": 2,
       "version_minor": 0
      },
      "text/plain": [
       "HBox(children=(FloatProgress(value=0.0, max=50.0), HTML(value='')))"
      ]
     },
     "metadata": {},
     "output_type": "display_data"
    },
    {
     "name": "stdout",
     "output_type": "stream",
     "text": [
      "\n"
     ]
    },
    {
     "data": {
      "application/vnd.jupyter.widget-view+json": {
       "model_id": "881e012c6e2143e2a4d141e751addc62",
       "version_major": 2,
       "version_minor": 0
      },
      "text/plain": [
       "HBox(children=(FloatProgress(value=0.0, max=50.0), HTML(value='')))"
      ]
     },
     "metadata": {},
     "output_type": "display_data"
    },
    {
     "name": "stdout",
     "output_type": "stream",
     "text": [
      "\n"
     ]
    }
   ],
   "source": [
    "vi_1 = VIGaussian(info['d'], False, False)\n",
    "vi_2 = VIGaussian(info['d'], False, True)\n",
    "\n",
    "\n",
    "mean_post = np.random.normal(0, 1, size=(info['d'],))\n",
    "\n",
    "nb_seeds = 50\n",
    "conds = [20, 50, 100]\n",
    "step_sizes = [5e-3, 5e-2, 5e-1]\n",
    "\n",
    "results = pd.DataFrame()\n",
    "for lr in step_sizes:\n",
    "    for seed in tqdm(range(nb_seeds)):\n",
    "        for cond in conds:\n",
    "            cov_post = generate_cov_matrix(info['d'], cond, info['lmin'])\n",
    "            cov_inv_post = np.linalg.inv(cov_post)\n",
    "            \n",
    "            dvi_1, _ = vi_1.run_eps(lr, info['max_iter'], info['eps'], mean_post, cov_post, cov_inv_post)\n",
    "            dvi_2, _ = vi_2.run_eps(lr, info['max_iter'], info['eps'], mean_post, cov_post, cov_inv_post)\n",
    "            row = pd.DataFrame({'seed': seed,\n",
    "                                'lr': lr,\n",
    "                                'cond': cond,\n",
    "                                'd': [dvi_1, dvi_2],\n",
    "                                'algorithm': ['VI first order', 'VI second order']})\n",
    "            results = pd.concat([results, row], ignore_index=True)\n",
    "        \n"
   ]
  },
  {
   "cell_type": "code",
   "execution_count": 103,
   "id": "b8487963-b1f2-4b1b-8e6e-fd8b286d7bbe",
   "metadata": {},
   "outputs": [
    {
     "data": {
      "image/png": "[encoded data removed]",
      "text/plain": [
       "<Figure size 432x288 with 1 Axes>"
      ]
     },
     "metadata": {
      "needs_background": "light"
     },
     "output_type": "display_data"
    },
    {
     "data": {
      "image/png": "[encoded data removed]",
      "text/plain": [
       "<Figure size 432x288 with 1 Axes>"
      ]
     },
     "metadata": {
      "needs_background": "light"
     },
     "output_type": "display_data"
    },
    {
     "data": {
      "image/png": "[encoded data removed]",
      "text/plain": [
       "<Figure size 432x288 with 1 Axes>"
      ]
     },
     "metadata": {
      "needs_background": "light"
     },
     "output_type": "display_data"
    }
   ],
   "source": [
    "for step_size in step_sizes:\n",
    "    sns.lineplot(data=results[results['lr'] == step_size], x=\"cond\", y=\"d\", hue='algorithm', marker='o')\n",
    "    plt.hlines(info['max_iter'], 0, np.max(conds)+0.5, color='r', linestyles='dashed')\n",
    "    plt.yscale('symlog')\n",
    "    plt.xlabel('Condition number')\n",
    "    plt.ylabel('Number of steps')\n",
    "    plt.xlim([0.5, np.max(conds) + 0.5])\n",
    "    plt.grid()\n",
    "    plt.legend()\n",
    "    plt.title(f'Step size: {step_size}')\n",
    "    #plt.savefig(f'{step_size}.pdf')\n",
    "    plt.show()\n",
    "    plt.close()"
   ]
  },
  {
   "cell_type": "code",
   "execution_count": null,
   "id": "5b73899c-63f8-4206-a0ad-db6a42b8f1fa",
   "metadata": {},
   "outputs": [],
   "source": []
  },
  {
   "cell_type": "code",
   "execution_count": 219,
   "id": "f1a542cb-b0df-4ce6-98fe-f4577dacb2a6",
   "metadata": {},
   "outputs": [
    {
     "data": {
      "application/vnd.jupyter.widget-view+json": {
       "model_id": "ab90d1a859184da3b21a4aad47b57864",
       "version_major": 2,
       "version_minor": 0
      },
      "text/plain": [
       "HBox(children=(FloatProgress(value=0.0, max=50.0), HTML(value='')))"
      ]
     },
     "metadata": {},
     "output_type": "display_data"
    },
    {
     "name": "stdout",
     "output_type": "stream",
     "text": [
      "\n"
     ]
    },
    {
     "data": {
      "application/vnd.jupyter.widget-view+json": {
       "model_id": "e71b22a01dec44ffbbde1bc65111e71e",
       "version_major": 2,
       "version_minor": 0
      },
      "text/plain": [
       "HBox(children=(FloatProgress(value=0.0, max=50.0), HTML(value='')))"
      ]
     },
     "metadata": {},
     "output_type": "display_data"
    },
    {
     "name": "stdout",
     "output_type": "stream",
     "text": [
      "\n"
     ]
    },
    {
     "data": {
      "application/vnd.jupyter.widget-view+json": {
       "model_id": "6d612fac3c0f45cd9b8f601d1805d40c",
       "version_major": 2,
       "version_minor": 0
      },
      "text/plain": [
       "HBox(children=(FloatProgress(value=0.0, max=50.0), HTML(value='')))"
      ]
     },
     "metadata": {},
     "output_type": "display_data"
    },
    {
     "name": "stdout",
     "output_type": "stream",
     "text": [
      "\n"
     ]
    }
   ],
   "source": [
    "vi_approx = VIGaussian(info['d'], True)\n",
    "vi_no_approx = VIGaussian(info['d'], False)\n",
    "lmc = LMC(info['d'])\n",
    "mean_post = np.random.normal(0, 1, size=(info['d'],))\n",
    "\n",
    "nb_seeds = 50\n",
    "conds = [1, 5, 10, 15, 20]\n",
    "step_sizes = [5e-3, 5e-2, 5e-1]\n",
    "\n",
    "results = pd.DataFrame()\n",
    "for lr in step_sizes:\n",
    "    for seed in tqdm(range(nb_seeds)):\n",
    "        for cond in conds:\n",
    "            cov_post = generate_cov_matrix(info['d'], cond, info['lmin'])\n",
    "            cov_inv_post = np.linalg.inv(cov_post)\n",
    "            \n",
    "            dvi_approx, _ = vi_approx.run_eps(lr, info['max_iter'], info['eps'], mean_post, cov_post, cov_inv_post)\n",
    "            dvi_no_approx, _ = vi_no_approx.run_eps(lr, info['max_iter'], info['eps'], mean_post, cov_post, cov_inv_post)\n",
    "            dlmc, _ = lmc.run_eps(lr, info['max_iter'], info['eps'], mean_post, cov_post, cov_inv_post)\n",
    "            row = pd.DataFrame({'seed': seed,\n",
    "                                'lr': lr,\n",
    "                                'cond': cond,\n",
    "                                'd': [dvi_approx, dvi_no_approx, dlmc],\n",
    "                                'algorithm': ['VI-I', 'VI-II', 'LMC']})\n",
    "            results = pd.concat([results, row], ignore_index=True)\n",
    "        \n"
   ]
  },
  {
   "cell_type": "code",
   "execution_count": 221,
   "id": "0f4b852c-ac3e-4e61-b05e-633e1eaec807",
   "metadata": {},
   "outputs": [],
   "source": [
    "for step_size in step_sizes:\n",
    "    sns.lineplot(data=results[results['lr'] == step_size], x=\"cond\", y=\"d\", hue='algorithm', marker='o')\n",
    "    plt.hlines(info['max_iter'], 0, np.max(conds)+0.5, color='r', linestyles='dashed')\n",
    "    plt.yscale('symlog')\n",
    "    plt.xlabel('Condition number')\n",
    "    plt.ylabel('Number of steps')\n",
    "    plt.xlim([0.5, np.max(conds) + 0.5])\n",
    "    plt.grid()\n",
    "    plt.legend()\n",
    "    plt.title(f'Step size: {step_size}')\n",
    "    plt.savefig(f'{step_size}.pdf')\n",
    "    plt.close()"
   ]
  },
  {
   "cell_type": "code",
   "execution_count": null,
   "id": "bef21f2e-8736-45a8-a5f4-b7a42d67977d",
   "metadata": {},
   "outputs": [],
   "source": []
  },
  {
   "cell_type": "code",
   "execution_count": null,
   "id": "021b7b4c-7000-45da-99b1-1b90842eed6d",
   "metadata": {},
   "outputs": [],
   "source": []
  },
  {
   "cell_type": "code",
   "execution_count": null,
   "id": "3706e0d8-f92e-4832-bec8-20d46b55ec19",
   "metadata": {},
   "outputs": [],
   "source": []
  },
  {
   "cell_type": "code",
   "execution_count": null,
   "id": "96812139-dc4a-4f25-b7db-575569c0830b",
   "metadata": {},
   "outputs": [],
   "source": []
  },
  {
   "cell_type": "code",
   "execution_count": null,
   "id": "8a8f0f33-bd5d-4c39-a455-64eef4fc3d37",
   "metadata": {},
   "outputs": [],
   "source": []
  },
  {
   "cell_type": "code",
   "execution_count": null,
   "id": "d194c1e0-fd98-470c-97fd-39e79a7ed4e0",
   "metadata": {},
   "outputs": [],
   "source": []
  },
  {
   "cell_type": "code",
   "execution_count": null,
   "id": "a1defa68-bd9a-4362-98b2-059c766f01ef",
   "metadata": {},
   "outputs": [],
   "source": []
  },
  {
   "cell_type": "code",
   "execution_count": null,
   "id": "dd77c6e8-a5de-4890-9705-028879005da4",
   "metadata": {},
   "outputs": [],
   "source": []
  },
  {
   "cell_type": "code",
   "execution_count": null,
   "id": "72df6633-2075-4843-83a8-13f6cb5602ae",
   "metadata": {},
   "outputs": [],
   "source": []
  },
  {
   "cell_type": "code",
   "execution_count": 70,
   "id": "ff2a2a74-fcd0-475c-997b-a4b6b75b4620",
   "metadata": {},
   "outputs": [],
   "source": [
    "import torch\n",
    "from torch.autograd import grad\n",
    "from torch.distributions.multivariate_normal import MultivariateNormal\n",
    "from torch.autograd.functional import hessian"
   ]
  },
  {
   "cell_type": "code",
   "execution_count": null,
   "id": "853bd48b-3ee3-47a9-baea-5ca9007f198a",
   "metadata": {},
   "outputs": [],
   "source": []
  },
  {
   "cell_type": "code",
   "execution_count": 43,
   "id": "26c07305-42f5-4ba0-9482-9fd4fe4930c6",
   "metadata": {},
   "outputs": [],
   "source": [
    "mean_s = torch.normal(0, 1, size=(10,))\n",
    "x = torch.normal(0, 1, size=(10, 100))\n",
    "cov_s = x @ x.T\n",
    "cov_s_inv = torch.linalg.inv(cov_s) \n",
    "\n",
    "def KL(mean, cov):\n",
    "    log_term = torch.log(torch.linalg.det(cov_s) / torch.linalg.det(cov))\n",
    "    trace_term = torch.trace(cov_s_inv @ cov)\n",
    "    mean_term = (mean - mean_s).T @ cov_s_inv @ (mean - mean_s)\n",
    "    return 0.5 * (log_term + trace_term + mean_term - len(mean))\n",
    "\n"
   ]
  },
  {
   "cell_type": "code",
   "execution_count": 44,
   "id": "880cb7ef-454c-4569-8c7f-c91ae47583c4",
   "metadata": {},
   "outputs": [
    {
     "data": {
      "text/plain": [
       "tensor(1.1859)"
      ]
     },
     "execution_count": 44,
     "metadata": {},
     "output_type": "execute_result"
    }
   ],
   "source": [
    "\n",
    "mean = torch.normal(0, 1, size=(10,))\n",
    "x = torch.normal(0, 1, size=(10, 100))\n",
    "cov = x @ x.T\n",
    "\n",
    "KL(mean, cov)"
   ]
  },
  {
   "cell_type": "code",
   "execution_count": 80,
   "id": "e269d2b9-f229-4d4f-9428-e629777acd54",
   "metadata": {},
   "outputs": [
    {
     "data": {
      "text/plain": [
       "(torch.Size([10, 10]), torch.Size([10, 10, 10, 10]))"
      ]
     },
     "execution_count": 80,
     "metadata": {},
     "output_type": "execute_result"
    }
   ],
   "source": [
    "mean.requires_grad = True\n",
    "cov.requires_grad = True\n",
    "grad_mean, grad_cov = grad(KL(mean, cov), (mean, cov))\n",
    "\n",
    "(hessian_mean, _), (_, hessian_cov) = hessian(KL, (mean, cov))\n",
    "hessian_mean.shape, hessian_cov.shape"
   ]
  },
  {
   "cell_type": "code",
   "execution_count": 61,
   "id": "75eb8c1a-eeec-445a-b826-97226138f82b",
   "metadata": {},
   "outputs": [
    {
     "data": {
      "text/plain": [
       "torch.Size([5000000, 10])"
      ]
     },
     "execution_count": 61,
     "metadata": {},
     "output_type": "execute_result"
    }
   ],
   "source": [
    "def sample_from_p(mean, cov):\n",
    "    return MultivariateNormal(mean, covariance_matrix=cov).sample((5000000,))\n",
    "\n",
    "x = sample_from_p(mean, cov)\n",
    "x.shape"
   ]
  },
  {
   "cell_type": "code",
   "execution_count": 66,
   "id": "c4c65bb5-8755-4390-a333-59a5e7a3ab2c",
   "metadata": {},
   "outputs": [],
   "source": [
    "grad_mean_approx = ((x - mean_s[None, :]) @ cov_s_inv).mean(0)\n",
    "grad_cov_approx = -0.5 * (torch.linalg.inv(cov) - cov_s_inv)"
   ]
  },
  {
   "cell_type": "code",
   "execution_count": 69,
   "id": "249ca90b-5ed3-46b6-840a-e76985e96b19",
   "metadata": {},
   "outputs": [
    {
     "name": "stdout",
     "output_type": "stream",
     "text": [
      "tensor(0.0002)\n",
      "tensor(1.5869e-09, grad_fn=<AmaxBackward0>)\n"
     ]
    }
   ],
   "source": [
    "print(torch.linalg.norm(grad_mean - grad_mean_approx, ord=2))\n",
    "print(torch.linalg.norm(grad_cov - grad_cov_approx, ord=2))\n"
   ]
  },
  {
   "cell_type": "code",
   "execution_count": 64,
   "id": "bd781fda-62cd-4fd6-b34d-8f8f7eaf06ea",
   "metadata": {},
   "outputs": [
    {
     "data": {
      "text/plain": [
       "tensor([1.0020, 1.0758, 0.9898, 1.0007, 1.0143, 1.0158, 1.0000, 0.9978, 1.0012,\n",
       "        0.9995])"
      ]
     },
     "execution_count": 64,
     "metadata": {},
     "output_type": "execute_result"
    }
   ],
   "source": []
  },
  {
   "cell_type": "code",
   "execution_count": 188,
   "id": "77da6e94-ccdc-47c1-93ac-7cd681d5a5c8",
   "metadata": {},
   "outputs": [
    {
     "data": {
      "application/vnd.jupyter.widget-view+json": {
       "model_id": "251fd6fc55ac4f2a8a4606af100cae8b",
       "version_major": 2,
       "version_minor": 0
      },
      "text/plain": [
       "HBox(children=(FloatProgress(value=0.0, max=999.0), HTML(value='')))"
      ]
     },
     "metadata": {},
     "output_type": "display_data"
    },
    {
     "name": "stdout",
     "output_type": "stream",
     "text": [
      "\n"
     ]
    },
    {
     "data": {
      "image/png": "[encoded data removed]",
      "text/plain": [
       "<Figure size 432x288 with 1 Axes>"
      ]
     },
     "metadata": {
      "needs_background": "light"
     },
     "output_type": "display_data"
    }
   ],
   "source": [
    "from sklearn.datasets import make_low_rank_matrix\n",
    "from sklearn.manifold import TSNE\n",
    "from tqdm.notebook import tqdm\n",
    "\n",
    "N = 1000\n",
    "pool_size = 1\n",
    "pool = np.random.normal(0, 1, size=(pool_size, 50))\n",
    "\n",
    "cond, lmin, lmax = [], [], []\n",
    "for n in tqdm(range(1, N)):\n",
    "    indexes = np.random.randint(0, pool_size, size=(n,))\n",
    "    X = pool[indexes] + np.random.normal(0, 0.1, size=(n, 50))\n",
    "    V = np.eye(50) + X.T @ X\n",
    "    values, _ = np.linalg.eig(V)\n",
    "    lmin.append(np.min(values))\n",
    "    lmax.append(np.max(values))\n",
    "    cond.append(np.linalg.cond(V))\n",
    "#plt.plot(cond, label='cond')\n",
    "plt.plot(lmin, label='lmin')\n",
    "#plt.plot(lmax, label='lmax')\n",
    "plt.legend()\n",
    "plt.grid()\n",
    "plt.show()"
   ]
  },
  {
   "cell_type": "code",
   "execution_count": 181,
   "id": "599e5f0e-fdd4-4f48-912f-351a8b058daa",
   "metadata": {},
   "outputs": [
    {
     "data": {
      "text/plain": [
       "1.4142135623730951"
      ]
     },
     "execution_count": 181,
     "metadata": {},
     "output_type": "execute_result"
    }
   ],
   "source": [
    "np.sqrt(2)"
   ]
  },
  {
   "cell_type": "code",
   "execution_count": 169,
   "id": "71426f7c-963b-4275-aa03-3855ec5c9ad8",
   "metadata": {},
   "outputs": [
    {
     "data": {
      "application/vnd.jupyter.widget-view+json": {
       "model_id": "17d606195edb47098d043faa02827b96",
       "version_major": 2,
       "version_minor": 0
      },
      "text/plain": [
       "HBox(children=(FloatProgress(value=0.0, max=499.0), HTML(value='')))"
      ]
     },
     "metadata": {},
     "output_type": "display_data"
    },
    {
     "name": "stdout",
     "output_type": "stream",
     "text": [
      "\n"
     ]
    },
    {
     "data": {
      "image/png": "[encoded data removed]",
      "text/plain": [
       "<Figure size 432x288 with 1 Axes>"
      ]
     },
     "metadata": {
      "needs_background": "light"
     },
     "output_type": "display_data"
    }
   ],
   "source": [
    "d = 10\n",
    "N = 50000\n",
    "\n",
    "def norm(N, d, power):\n",
    "    x = np.random.normal(0, d**power, size=(N, d))\n",
    "    return x\n",
    "\n",
    "\n",
    "var = []\n",
    "for d in tqdm(range(1, 500)):\n",
    "    theta = norm(1, d, 0)\n",
    "    X = norm(N, d, -0.5)\n",
    "    r = X @ theta.T\n",
    "    var.append(np.var(r))\n",
    "plt.plot(var)\n",
    "plt.show()\n",
    "\n",
    "#raise ValueError(np.std(r), np.std(np.random.normal(0, 1, size=(N,))))\n",
    "#plt.hist(r, bins=100)\n",
    "#plt.show()\n",
    "#noise = np.random.normal(0, 1, size=(N,))\n",
    "#plt.hist(noise, bins=100)\n",
    "#print(np.var(r), np.var(noise))\n",
    "#plt.show()"
   ]
  },
  {
   "cell_type": "code",
   "execution_count": null,
   "id": "10da65fa-1c48-40de-bf6b-3a67bcf4a7aa",
   "metadata": {},
   "outputs": [],
   "source": []
  },
  {
   "cell_type": "code",
   "execution_count": null,
   "id": "1976b90c-2b7f-4f6c-892e-5d9cb7e84e54",
   "metadata": {},
   "outputs": [],
   "source": []
  },
  {
   "cell_type": "code",
   "execution_count": null,
   "id": "818ca473-7627-417c-9cfd-3b75a199ad30",
   "metadata": {},
   "outputs": [],
   "source": []
  },
  {
   "cell_type": "code",
   "execution_count": 5,
   "id": "3daf2376-8882-400b-8670-3da106be42c5",
   "metadata": {},
   "outputs": [
    {
     "data": {
      "text/plain": [
       "'\\n        summary_list.append(run.summary._json_dict)\\n        \\n\\n    # .config contains the hyperparameters.\\n    #  We remove special values that start with _.\\n    config_list.append(\\n        {k: v for k,v in run.config.items()\\n          if not k.startswith(\\'_\\')})\\n\\n    # .name is the human-readable name of the run.\\n    name_list.append(run.name)\\n\\nruns_df = pd.DataFrame({\\n    \"summary\": summary_list,\\n    \"config\": config_list,\\n    \"name\": name_list\\n    })\\n\\nruns_df.to_csv(\"project.csv\")\\n'"
      ]
     },
     "execution_count": 5,
     "metadata": {},
     "output_type": "execute_result"
    }
   ],
   "source": [
    "import pandas as pd \n",
    "import wandb\n",
    "from tqdm.notebook import tqdm\n",
    "api = wandb.Api()\n",
    "\n",
    "def load_data(path, parameters):\n",
    "    runs = api.runs(path, timeout=19)\n",
    "    df = pd.DataFrame()\n",
    "    nb_items = 0\n",
    "    for run in tqdm(runs): \n",
    "        b = True\n",
    "        for parameter_name, parameter in parameters:\n",
    "            if run.config[parameter_name] != parameter:\n",
    "                b = False\n",
    "        if b:\n",
    "            #print(run.config['lmcts'])\n",
    "            nb_items += 1\n",
    "            steps = [d['_step'] for d in run.scan_history()]\n",
    "            cum_regret = [d['cum_regret'] for d in run.scan_history()]\n",
    "            row = pd.DataFrame({'step': steps, 'cum_regret': cum_regret})\n",
    "            df = pd.concat([df, row], ignore_index=True)\n",
    "    print(f'Number of items: {nb_items}')\n",
    "    return df\n",
    "        \n",
    "\"\"\"\n",
    "        summary_list.append(run.summary._json_dict)\n",
    "        \n",
    "\n",
    "    # .config contains the hyperparameters.\n",
    "    #  We remove special values that start with _.\n",
    "    config_list.append(\n",
    "        {k: v for k,v in run.config.items()\n",
    "          if not k.startswith('_')})\n",
    "\n",
    "    # .name is the human-readable name of the run.\n",
    "    name_list.append(run.name)\n",
    "\n",
    "runs_df = pd.DataFrame({\n",
    "    \"summary\": summary_list,\n",
    "    \"config\": config_list,\n",
    "    \"name\": name_list\n",
    "    })\n",
    "\n",
    "runs_df.to_csv(\"project.csv\")\n",
    "\"\"\"\n"
   ]
  },
  {
   "cell_type": "code",
   "execution_count": 11,
   "id": "23be23ca-e000-45da-8710-a206a382a5fd",
   "metadata": {},
   "outputs": [
    {
     "data": {
      "application/vnd.jupyter.widget-view+json": {
       "model_id": "e9817199ac7d476eabf68d9fdd93b391",
       "version_major": 2,
       "version_minor": 0
      },
      "text/plain": [
       "HBox(children=(FloatProgress(value=0.0, max=221.0), HTML(value='')))"
      ]
     },
     "metadata": {},
     "output_type": "display_data"
    },
    {
     "name": "stderr",
     "output_type": "stream",
     "text": [
      "\u001b[34m\u001b[1mwandb\u001b[0m: \u001b[33mWARNING\u001b[0m A graphql request initiated by the public wandb API timed out (timeout=9 sec). Create a new API with an integer timeout larger than 9, e.g., `api = wandb.Api(timeout=19)` to increase the graphql timeout.\n",
      "\u001b[34m\u001b[1mwandb\u001b[0m: \u001b[33mWARNING\u001b[0m A graphql request initiated by the public wandb API timed out (timeout=9 sec). Create a new API with an integer timeout larger than 9, e.g., `api = wandb.Api(timeout=19)` to increase the graphql timeout.\n",
      "\u001b[34m\u001b[1mwandb\u001b[0m: \u001b[33mWARNING\u001b[0m A graphql request initiated by the public wandb API timed out (timeout=9 sec). Create a new API with an integer timeout larger than 9, e.g., `api = wandb.Api(timeout=19)` to increase the graphql timeout.\n",
      "\u001b[34m\u001b[1mwandb\u001b[0m: \u001b[33mWARNING\u001b[0m A graphql request initiated by the public wandb API timed out (timeout=9 sec). Create a new API with an integer timeout larger than 9, e.g., `api = wandb.Api(timeout=19)` to increase the graphql timeout.\n",
      "\u001b[34m\u001b[1mwandb\u001b[0m: \u001b[33mWARNING\u001b[0m A graphql request initiated by the public wandb API timed out (timeout=9 sec). Create a new API with an integer timeout larger than 9, e.g., `api = wandb.Api(timeout=19)` to increase the graphql timeout.\n",
      "\u001b[34m\u001b[1mwandb\u001b[0m: \u001b[33mWARNING\u001b[0m A graphql request initiated by the public wandb API timed out (timeout=9 sec). Create a new API with an integer timeout larger than 9, e.g., `api = wandb.Api(timeout=19)` to increase the graphql timeout.\n",
      "\u001b[34m\u001b[1mwandb\u001b[0m: \u001b[33mWARNING\u001b[0m A graphql request initiated by the public wandb API timed out (timeout=9 sec). Create a new API with an integer timeout larger than 9, e.g., `api = wandb.Api(timeout=19)` to increase the graphql timeout.\n",
      "\u001b[34m\u001b[1mwandb\u001b[0m: \u001b[33mWARNING\u001b[0m A graphql request initiated by the public wandb API timed out (timeout=9 sec). Create a new API with an integer timeout larger than 9, e.g., `api = wandb.Api(timeout=19)` to increase the graphql timeout.\n",
      "\u001b[34m\u001b[1mwandb\u001b[0m: \u001b[33mWARNING\u001b[0m A graphql request initiated by the public wandb API timed out (timeout=9 sec). Create a new API with an integer timeout larger than 9, e.g., `api = wandb.Api(timeout=19)` to increase the graphql timeout.\n",
      "\u001b[34m\u001b[1mwandb\u001b[0m: \u001b[33mWARNING\u001b[0m A graphql request initiated by the public wandb API timed out (timeout=9 sec). Create a new API with an integer timeout larger than 9, e.g., `api = wandb.Api(timeout=19)` to increase the graphql timeout.\n",
      "\u001b[34m\u001b[1mwandb\u001b[0m: \u001b[33mWARNING\u001b[0m A graphql request initiated by the public wandb API timed out (timeout=9 sec). Create a new API with an integer timeout larger than 9, e.g., `api = wandb.Api(timeout=19)` to increase the graphql timeout.\n",
      "\u001b[34m\u001b[1mwandb\u001b[0m: \u001b[33mWARNING\u001b[0m A graphql request initiated by the public wandb API timed out (timeout=9 sec). Create a new API with an integer timeout larger than 9, e.g., `api = wandb.Api(timeout=19)` to increase the graphql timeout.\n",
      "\u001b[34m\u001b[1mwandb\u001b[0m: \u001b[33mWARNING\u001b[0m A graphql request initiated by the public wandb API timed out (timeout=9 sec). Create a new API with an integer timeout larger than 9, e.g., `api = wandb.Api(timeout=19)` to increase the graphql timeout.\n",
      "\u001b[34m\u001b[1mwandb\u001b[0m: \u001b[33mWARNING\u001b[0m A graphql request initiated by the public wandb API timed out (timeout=9 sec). Create a new API with an integer timeout larger than 9, e.g., `api = wandb.Api(timeout=19)` to increase the graphql timeout.\n",
      "\u001b[34m\u001b[1mwandb\u001b[0m: \u001b[33mWARNING\u001b[0m A graphql request initiated by the public wandb API timed out (timeout=9 sec). Create a new API with an integer timeout larger than 9, e.g., `api = wandb.Api(timeout=19)` to increase the graphql timeout.\n",
      "\u001b[34m\u001b[1mwandb\u001b[0m: \u001b[33mWARNING\u001b[0m A graphql request initiated by the public wandb API timed out (timeout=9 sec). Create a new API with an integer timeout larger than 9, e.g., `api = wandb.Api(timeout=19)` to increase the graphql timeout.\n"
     ]
    },
    {
     "name": "stdout",
     "output_type": "stream",
     "text": [
      "\n",
      "Number of items: 100\n"
     ]
    }
   ],
   "source": [
    "df_ts = load_data(\"thuix/test\", [('eta', 10), ('lbd', 1)])"
   ]
  },
  {
   "cell_type": "code",
   "execution_count": 6,
   "id": "1984f6dc-1aba-44e8-91ad-7be56fea38c5",
   "metadata": {},
   "outputs": [
    {
     "data": {
      "application/vnd.jupyter.widget-view+json": {
       "model_id": "44d66f4a06404a55a10c817a9a4016f1",
       "version_major": 2,
       "version_minor": 0
      },
      "text/plain": [
       "HBox(children=(FloatProgress(value=0.0, max=160.0), HTML(value='')))"
      ]
     },
     "metadata": {},
     "output_type": "display_data"
    },
    {
     "name": "stderr",
     "output_type": "stream",
     "text": [
      "\u001b[34m\u001b[1mwandb\u001b[0m: \u001b[33mWARNING\u001b[0m A graphql request initiated by the public wandb API timed out (timeout=9 sec). Create a new API with an integer timeout larger than 9, e.g., `api = wandb.Api(timeout=19)` to increase the graphql timeout.\n",
      "\u001b[34m\u001b[1mwandb\u001b[0m: \u001b[33mWARNING\u001b[0m A graphql request initiated by the public wandb API timed out (timeout=9 sec). Create a new API with an integer timeout larger than 9, e.g., `api = wandb.Api(timeout=19)` to increase the graphql timeout.\n"
     ]
    },
    {
     "name": "stdout",
     "output_type": "stream",
     "text": [
      "\n",
      "Number of items: 100\n"
     ]
    }
   ],
   "source": [
    "df_vits = load_data(\"thuix/linear_vits\", [('vits', \"{'hessian_free': False, 'approx': False, 'step_size': 0.001, 'num_updates': 10}\")])"
   ]
  },
  {
   "cell_type": "code",
   "execution_count": 7,
   "id": "526aa66c-2460-4218-be21-7ca20e0e781b",
   "metadata": {},
   "outputs": [
    {
     "data": {
      "application/vnd.jupyter.widget-view+json": {
       "model_id": "3afd631100c049b3a67cfee0f438ffab",
       "version_major": 2,
       "version_minor": 0
      },
      "text/plain": [
       "HBox(children=(FloatProgress(value=0.0, max=620.0), HTML(value='')))"
      ]
     },
     "metadata": {},
     "output_type": "display_data"
    },
    {
     "name": "stderr",
     "output_type": "stream",
     "text": [
      "\u001b[34m\u001b[1mwandb\u001b[0m: \u001b[33mWARNING\u001b[0m A graphql request initiated by the public wandb API timed out (timeout=9 sec). Create a new API with an integer timeout larger than 9, e.g., `api = wandb.Api(timeout=19)` to increase the graphql timeout.\n",
      "\u001b[34m\u001b[1mwandb\u001b[0m: \u001b[33mWARNING\u001b[0m A graphql request initiated by the public wandb API timed out (timeout=9 sec). Create a new API with an integer timeout larger than 9, e.g., `api = wandb.Api(timeout=19)` to increase the graphql timeout.\n",
      "\u001b[34m\u001b[1mwandb\u001b[0m: \u001b[33mWARNING\u001b[0m A graphql request initiated by the public wandb API timed out (timeout=9 sec). Create a new API with an integer timeout larger than 9, e.g., `api = wandb.Api(timeout=19)` to increase the graphql timeout.\n",
      "\u001b[34m\u001b[1mwandb\u001b[0m: \u001b[33mWARNING\u001b[0m A graphql request initiated by the public wandb API timed out (timeout=9 sec). Create a new API with an integer timeout larger than 9, e.g., `api = wandb.Api(timeout=19)` to increase the graphql timeout.\n",
      "\u001b[34m\u001b[1mwandb\u001b[0m: \u001b[33mWARNING\u001b[0m A graphql request initiated by the public wandb API timed out (timeout=9 sec). Create a new API with an integer timeout larger than 9, e.g., `api = wandb.Api(timeout=19)` to increase the graphql timeout.\n"
     ]
    },
    {
     "name": "stdout",
     "output_type": "stream",
     "text": [
      "\n",
      "Number of items: 100\n"
     ]
    }
   ],
   "source": [
    "df_lmcts50 = load_data(\"thuix/linear_lmcts\", [('lmcts', \"{'num_updates': 50, 'step_size': 0.01}\")])"
   ]
  },
  {
   "cell_type": "code",
   "execution_count": 8,
   "id": "723be93a-9175-409e-bd82-d7b05ede55e6",
   "metadata": {},
   "outputs": [
    {
     "data": {
      "application/vnd.jupyter.widget-view+json": {
       "model_id": "ed8c23fe416844d7b7145478dae6a5a2",
       "version_major": 2,
       "version_minor": 0
      },
      "text/plain": [
       "HBox(children=(FloatProgress(value=0.0, max=620.0), HTML(value='')))"
      ]
     },
     "metadata": {},
     "output_type": "display_data"
    },
    {
     "name": "stderr",
     "output_type": "stream",
     "text": [
      "\u001b[34m\u001b[1mwandb\u001b[0m: \u001b[33mWARNING\u001b[0m A graphql request initiated by the public wandb API timed out (timeout=9 sec). Create a new API with an integer timeout larger than 9, e.g., `api = wandb.Api(timeout=19)` to increase the graphql timeout.\n",
      "\u001b[34m\u001b[1mwandb\u001b[0m: \u001b[33mWARNING\u001b[0m A graphql request initiated by the public wandb API timed out (timeout=9 sec). Create a new API with an integer timeout larger than 9, e.g., `api = wandb.Api(timeout=19)` to increase the graphql timeout.\n",
      "\u001b[34m\u001b[1mwandb\u001b[0m: \u001b[33mWARNING\u001b[0m A graphql request initiated by the public wandb API timed out (timeout=9 sec). Create a new API with an integer timeout larger than 9, e.g., `api = wandb.Api(timeout=19)` to increase the graphql timeout.\n",
      "\u001b[34m\u001b[1mwandb\u001b[0m: \u001b[33mWARNING\u001b[0m A graphql request initiated by the public wandb API timed out (timeout=9 sec). Create a new API with an integer timeout larger than 9, e.g., `api = wandb.Api(timeout=19)` to increase the graphql timeout.\n",
      "\u001b[34m\u001b[1mwandb\u001b[0m: \u001b[33mWARNING\u001b[0m A graphql request initiated by the public wandb API timed out (timeout=9 sec). Create a new API with an integer timeout larger than 9, e.g., `api = wandb.Api(timeout=19)` to increase the graphql timeout.\n",
      "\u001b[34m\u001b[1mwandb\u001b[0m: \u001b[33mWARNING\u001b[0m A graphql request initiated by the public wandb API timed out (timeout=9 sec). Create a new API with an integer timeout larger than 9, e.g., `api = wandb.Api(timeout=19)` to increase the graphql timeout.\n"
     ]
    },
    {
     "name": "stdout",
     "output_type": "stream",
     "text": [
      "\n",
      "Number of items: 100\n"
     ]
    }
   ],
   "source": [
    "df_lmcts10 = load_data(\"thuix/linear_lmcts\", [('lmcts', \"{'num_updates': 10, 'step_size': 0.01}\")])"
   ]
  },
  {
   "cell_type": "code",
   "execution_count": 9,
   "id": "ed97d39a-2e74-4ac8-8bcc-33dfab70a764",
   "metadata": {},
   "outputs": [
    {
     "data": {
      "application/vnd.jupyter.widget-view+json": {
       "model_id": "c162d92dd4334ddf90c51f91df20825a",
       "version_major": 2,
       "version_minor": 0
      },
      "text/plain": [
       "HBox(children=(FloatProgress(value=0.0, max=620.0), HTML(value='')))"
      ]
     },
     "metadata": {},
     "output_type": "display_data"
    },
    {
     "name": "stderr",
     "output_type": "stream",
     "text": [
      "\u001b[34m\u001b[1mwandb\u001b[0m: \u001b[33mWARNING\u001b[0m A graphql request initiated by the public wandb API timed out (timeout=9 sec). Create a new API with an integer timeout larger than 9, e.g., `api = wandb.Api(timeout=19)` to increase the graphql timeout.\n",
      "\u001b[34m\u001b[1mwandb\u001b[0m: \u001b[33mWARNING\u001b[0m A graphql request initiated by the public wandb API timed out (timeout=9 sec). Create a new API with an integer timeout larger than 9, e.g., `api = wandb.Api(timeout=19)` to increase the graphql timeout.\n",
      "\u001b[34m\u001b[1mwandb\u001b[0m: \u001b[33mWARNING\u001b[0m A graphql request initiated by the public wandb API timed out (timeout=9 sec). Create a new API with an integer timeout larger than 9, e.g., `api = wandb.Api(timeout=19)` to increase the graphql timeout.\n",
      "\u001b[34m\u001b[1mwandb\u001b[0m: \u001b[33mWARNING\u001b[0m A graphql request initiated by the public wandb API timed out (timeout=9 sec). Create a new API with an integer timeout larger than 9, e.g., `api = wandb.Api(timeout=19)` to increase the graphql timeout.\n",
      "\u001b[34m\u001b[1mwandb\u001b[0m: \u001b[33mWARNING\u001b[0m A graphql request initiated by the public wandb API timed out (timeout=9 sec). Create a new API with an integer timeout larger than 9, e.g., `api = wandb.Api(timeout=19)` to increase the graphql timeout.\n",
      "\u001b[34m\u001b[1mwandb\u001b[0m: \u001b[33mWARNING\u001b[0m A graphql request initiated by the public wandb API timed out (timeout=9 sec). Create a new API with an integer timeout larger than 9, e.g., `api = wandb.Api(timeout=19)` to increase the graphql timeout.\n",
      "\u001b[34m\u001b[1mwandb\u001b[0m: \u001b[33mWARNING\u001b[0m A graphql request initiated by the public wandb API timed out (timeout=9 sec). Create a new API with an integer timeout larger than 9, e.g., `api = wandb.Api(timeout=19)` to increase the graphql timeout.\n",
      "\u001b[34m\u001b[1mwandb\u001b[0m: \u001b[33mWARNING\u001b[0m A graphql request initiated by the public wandb API timed out (timeout=9 sec). Create a new API with an integer timeout larger than 9, e.g., `api = wandb.Api(timeout=19)` to increase the graphql timeout.\n",
      "\u001b[34m\u001b[1mwandb\u001b[0m: \u001b[33mWARNING\u001b[0m A graphql request initiated by the public wandb API timed out (timeout=9 sec). Create a new API with an integer timeout larger than 9, e.g., `api = wandb.Api(timeout=19)` to increase the graphql timeout.\n",
      "\u001b[34m\u001b[1mwandb\u001b[0m: \u001b[33mWARNING\u001b[0m A graphql request initiated by the public wandb API timed out (timeout=9 sec). Create a new API with an integer timeout larger than 9, e.g., `api = wandb.Api(timeout=19)` to increase the graphql timeout.\n",
      "\u001b[34m\u001b[1mwandb\u001b[0m: \u001b[33mWARNING\u001b[0m A graphql request initiated by the public wandb API timed out (timeout=9 sec). Create a new API with an integer timeout larger than 9, e.g., `api = wandb.Api(timeout=19)` to increase the graphql timeout.\n",
      "\u001b[34m\u001b[1mwandb\u001b[0m: \u001b[33mWARNING\u001b[0m A graphql request initiated by the public wandb API timed out (timeout=9 sec). Create a new API with an integer timeout larger than 9, e.g., `api = wandb.Api(timeout=19)` to increase the graphql timeout.\n",
      "\u001b[34m\u001b[1mwandb\u001b[0m: \u001b[33mWARNING\u001b[0m A graphql request initiated by the public wandb API timed out (timeout=9 sec). Create a new API with an integer timeout larger than 9, e.g., `api = wandb.Api(timeout=19)` to increase the graphql timeout.\n",
      "\u001b[34m\u001b[1mwandb\u001b[0m: \u001b[33mWARNING\u001b[0m A graphql request initiated by the public wandb API timed out (timeout=9 sec). Create a new API with an integer timeout larger than 9, e.g., `api = wandb.Api(timeout=19)` to increase the graphql timeout.\n",
      "\u001b[34m\u001b[1mwandb\u001b[0m: \u001b[33mWARNING\u001b[0m A graphql request initiated by the public wandb API timed out (timeout=9 sec). Create a new API with an integer timeout larger than 9, e.g., `api = wandb.Api(timeout=19)` to increase the graphql timeout.\n",
      "\u001b[34m\u001b[1mwandb\u001b[0m: \u001b[33mWARNING\u001b[0m A graphql request initiated by the public wandb API timed out (timeout=9 sec). Create a new API with an integer timeout larger than 9, e.g., `api = wandb.Api(timeout=19)` to increase the graphql timeout.\n",
      "\u001b[34m\u001b[1mwandb\u001b[0m: \u001b[33mWARNING\u001b[0m A graphql request initiated by the public wandb API timed out (timeout=9 sec). Create a new API with an integer timeout larger than 9, e.g., `api = wandb.Api(timeout=19)` to increase the graphql timeout.\n",
      "\u001b[34m\u001b[1mwandb\u001b[0m: \u001b[33mWARNING\u001b[0m A graphql request initiated by the public wandb API timed out (timeout=9 sec). Create a new API with an integer timeout larger than 9, e.g., `api = wandb.Api(timeout=19)` to increase the graphql timeout.\n",
      "\u001b[34m\u001b[1mwandb\u001b[0m: \u001b[33mWARNING\u001b[0m A graphql request initiated by the public wandb API timed out (timeout=9 sec). Create a new API with an integer timeout larger than 9, e.g., `api = wandb.Api(timeout=19)` to increase the graphql timeout.\n",
      "\u001b[34m\u001b[1mwandb\u001b[0m: \u001b[33mWARNING\u001b[0m A graphql request initiated by the public wandb API timed out (timeout=9 sec). Create a new API with an integer timeout larger than 9, e.g., `api = wandb.Api(timeout=19)` to increase the graphql timeout.\n",
      "\u001b[34m\u001b[1mwandb\u001b[0m: \u001b[33mWARNING\u001b[0m A graphql request initiated by the public wandb API timed out (timeout=9 sec). Create a new API with an integer timeout larger than 9, e.g., `api = wandb.Api(timeout=19)` to increase the graphql timeout.\n",
      "\u001b[34m\u001b[1mwandb\u001b[0m: \u001b[33mWARNING\u001b[0m A graphql request initiated by the public wandb API timed out (timeout=9 sec). Create a new API with an integer timeout larger than 9, e.g., `api = wandb.Api(timeout=19)` to increase the graphql timeout.\n",
      "\u001b[34m\u001b[1mwandb\u001b[0m: \u001b[33mWARNING\u001b[0m A graphql request initiated by the public wandb API timed out (timeout=9 sec). Create a new API with an integer timeout larger than 9, e.g., `api = wandb.Api(timeout=19)` to increase the graphql timeout.\n",
      "\u001b[34m\u001b[1mwandb\u001b[0m: \u001b[33mWARNING\u001b[0m A graphql request initiated by the public wandb API timed out (timeout=9 sec). Create a new API with an integer timeout larger than 9, e.g., `api = wandb.Api(timeout=19)` to increase the graphql timeout.\n",
      "\u001b[34m\u001b[1mwandb\u001b[0m: \u001b[33mWARNING\u001b[0m A graphql request initiated by the public wandb API timed out (timeout=9 sec). Create a new API with an integer timeout larger than 9, e.g., `api = wandb.Api(timeout=19)` to increase the graphql timeout.\n",
      "\u001b[34m\u001b[1mwandb\u001b[0m: \u001b[33mWARNING\u001b[0m A graphql request initiated by the public wandb API timed out (timeout=9 sec). Create a new API with an integer timeout larger than 9, e.g., `api = wandb.Api(timeout=19)` to increase the graphql timeout.\n",
      "\u001b[34m\u001b[1mwandb\u001b[0m: \u001b[33mWARNING\u001b[0m A graphql request initiated by the public wandb API timed out (timeout=9 sec). Create a new API with an integer timeout larger than 9, e.g., `api = wandb.Api(timeout=19)` to increase the graphql timeout.\n",
      "\u001b[34m\u001b[1mwandb\u001b[0m: \u001b[33mWARNING\u001b[0m A graphql request initiated by the public wandb API timed out (timeout=9 sec). Create a new API with an integer timeout larger than 9, e.g., `api = wandb.Api(timeout=19)` to increase the graphql timeout.\n",
      "\u001b[34m\u001b[1mwandb\u001b[0m: \u001b[33mWARNING\u001b[0m A graphql request initiated by the public wandb API timed out (timeout=9 sec). Create a new API with an integer timeout larger than 9, e.g., `api = wandb.Api(timeout=19)` to increase the graphql timeout.\n",
      "\u001b[34m\u001b[1mwandb\u001b[0m: \u001b[33mWARNING\u001b[0m A graphql request initiated by the public wandb API timed out (timeout=9 sec). Create a new API with an integer timeout larger than 9, e.g., `api = wandb.Api(timeout=19)` to increase the graphql timeout.\n",
      "\u001b[34m\u001b[1mwandb\u001b[0m: \u001b[33mWARNING\u001b[0m A graphql request initiated by the public wandb API timed out (timeout=9 sec). Create a new API with an integer timeout larger than 9, e.g., `api = wandb.Api(timeout=19)` to increase the graphql timeout.\n",
      "\u001b[34m\u001b[1mwandb\u001b[0m: \u001b[33mWARNING\u001b[0m A graphql request initiated by the public wandb API timed out (timeout=9 sec). Create a new API with an integer timeout larger than 9, e.g., `api = wandb.Api(timeout=19)` to increase the graphql timeout.\n",
      "\u001b[34m\u001b[1mwandb\u001b[0m: \u001b[33mWARNING\u001b[0m A graphql request initiated by the public wandb API timed out (timeout=9 sec). Create a new API with an integer timeout larger than 9, e.g., `api = wandb.Api(timeout=19)` to increase the graphql timeout.\n"
     ]
    },
    {
     "name": "stdout",
     "output_type": "stream",
     "text": [
      "\n",
      "Number of items: 100\n"
     ]
    }
   ],
   "source": [
    "df_lmcts100 = load_data(\"thuix/linear_lmcts\", [('lmcts', \"{'num_updates': 100, 'step_size': 0.001}\")])"
   ]
  },
  {
   "cell_type": "code",
   "execution_count": 35,
   "id": "df6528a1-6b27-44fd-889f-56e834e7bcf6",
   "metadata": {},
   "outputs": [],
   "source": [
    "df_ts['Algorithm'] = 'TS'\n",
    "df_lmcts50['Algorithm'] = 'LMC-TS 50 steps'\n",
    "df_lmcts10['Algorithm'] = 'LMC-TS 10 steps'\n",
    "df_vits['Algorithm'] = 'VITS-I'\n",
    "df_lmcts100['Algorithm'] = 'LMCTS 100 steps'\n",
    "df = pd.concat([df_ts, df_lmcts10, df_lmcts50, df_vits], ignore_index=True)"
   ]
  },
  {
   "cell_type": "code",
   "execution_count": 38,
   "id": "23485091-a10a-465b-8ccf-64d219c34260",
   "metadata": {},
   "outputs": [
    {
     "data": {
      "image/png": "[encoded data removed]",
      "text/plain": [
       "<Figure size 576x396 with 1 Axes>"
      ]
     },
     "metadata": {},
     "output_type": "display_data"
    }
   ],
   "source": [
    "import seaborn as sns\n",
    "import matplotlib.pyplot as plt\n",
    "plt.style.use('seaborn')\n",
    "sns.lineplot(data=df, x='step', y='cum_regret', hue='Algorithm', errorbar='se')\n",
    "plt.legend()\n",
    "#plt.grid()\n",
    "plt.ylabel('Cumulative regret')\n",
    "plt.xlabel('time step t')\n",
    "#plt.ylim([0, 500])\n",
    "plt.show()"
   ]
  },
  {
   "cell_type": "code",
   "execution_count": 18,
   "id": "fcb99fae-dd2c-4588-87f1-497051bda8ba",
   "metadata": {},
   "outputs": [
    {
     "data": {
      "text/plain": [
       "70.71067811865476"
      ]
     },
     "execution_count": 18,
     "metadata": {},
     "output_type": "execute_result"
    }
   ],
   "source": [
    "import numpy as np\n",
    "np.sqrt(5000)"
   ]
  },
  {
   "cell_type": "code",
   "execution_count": 19,
   "id": "c413136a-eb2f-4fa6-8863-b05d681b4936",
   "metadata": {},
   "outputs": [
    {
     "data": {
      "text/plain": [
       "2e-05"
      ]
     },
     "execution_count": 19,
     "metadata": {},
     "output_type": "execute_result"
    }
   ],
   "source": [
    "0.01 / 500"
   ]
  },
  {
   "cell_type": "code",
   "execution_count": 22,
   "id": "4601e521-7908-4f90-95db-d9119756c565",
   "metadata": {},
   "outputs": [
    {
     "data": {
      "text/plain": [
       "5e-05"
      ]
     },
     "execution_count": 22,
     "metadata": {},
     "output_type": "execute_result"
    }
   ],
   "source": [
    "0.00005"
   ]
  },
  {
   "cell_type": "code",
   "execution_count": 27,
   "id": "6fa668d9-c77c-476c-b8f1-42ea3ebcb54d",
   "metadata": {},
   "outputs": [
    {
     "data": {
      "text/plain": [
       "0.0002"
      ]
     },
     "execution_count": 27,
     "metadata": {},
     "output_type": "execute_result"
    }
   ],
   "source": [
    "l0 = 0.1\n",
    "l0 / 500"
   ]
  },
  {
   "cell_type": "code",
   "execution_count": null,
   "id": "9c1ab3bd-43b0-48fa-9d20-d1dd589d9ef4",
   "metadata": {},
   "outputs": [],
   "source": []
  }
 ],
 "metadata": {
  "kernelspec": {
   "display_name": "Python 3 (ipykernel)",
   "language": "python",
   "name": "python3"
  },
  "language_info": {
   "codemirror_mode": {
    "name": "ipython",
    "version": 3
   },
   "file_extension": ".py",
   "mimetype": "text/x-python",
   "name": "python",
   "nbconvert_exporter": "python",
   "pygments_lexer": "ipython3",
   "version": "3.9.12"
  }
 },
 "nbformat": 4,
 "nbformat_minor": 5
}
