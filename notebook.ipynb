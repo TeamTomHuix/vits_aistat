{
 "cells": [
  {
   "cell_type": "code",
   "execution_count": 1,
   "id": "3337f35d",
   "metadata": {},
   "outputs": [],
   "source": [
    "from sklearn.datasets._samples_generator import check_array, check_random_state, make_low_rank_matrix\n",
    "import numpy as np\n",
    "from sklearn.utils import shuffle as util_shuffle\n",
    "import matplotlib.pyplot as plt\n",
    "\n",
    "from collections import deque\n",
    "from scipy.stats import rankdata"
   ]
  },
  {
   "cell_type": "code",
   "execution_count": 582,
   "id": "947a2eca",
   "metadata": {},
   "outputs": [],
   "source": [
    "class LMC(object):\n",
    "    def __init__(self, dimension, lbd, eta):\n",
    "        self.dimension = dimension\n",
    "        self.lbd = lbd\n",
    "        self.eta = eta\n",
    "        \n",
    "    def gradient(self, V, b, theta):\n",
    "        return (V @ theta) - b\n",
    "        \n",
    "    def update_mean(self, mean, gradient, h):\n",
    "        noise = np.random.normal(0, np.sqrt(2 * h / self.eta), size=(self.dimension,))\n",
    "        return mean - h * gradient +  noise \n",
    "        \n",
    "    def run(self, x, y, h, max_iter, eps):\n",
    "        theta=np.zeros(self.dimension)\n",
    "        V = self.lbd * np.eye(self.dimension) + x.T@x\n",
    "        b = y @ x\n",
    "        true_param = np.linalg.inv(V) @ b\n",
    "        thetas = []\n",
    "        nb_iter, distances = 0, [np.linalg.norm(true_param - theta, ord=2)]\n",
    "        \n",
    "        while nb_iter < max_iter and distances[-1] > eps:\n",
    "            grad = self.gradient(V, b, theta)\n",
    "            theta = self.update_mean(theta, grad, h)\n",
    "            thetas.append(theta)\n",
    "            if nb_iter > 50:\n",
    "                thetas.append(theta)\n",
    "                mean = np.mean(thetas, axis=0)\n",
    "                distances.append(np.linalg.norm(true_param - mean, ord=2))\n",
    "            else:\n",
    "                distances.append(np.linalg.norm(true_param - theta, ord=2))\n",
    "            nb_iter += 1\n",
    "        return distances\n"
   ]
  },
  {
   "cell_type": "code",
   "execution_count": 575,
   "id": "dde3ae73",
   "metadata": {},
   "outputs": [],
   "source": [
    "class VI_gaussian(object):\n",
    "\n",
    "    def __init__(self, dimension, eta, lbd,  approx=True):\n",
    "        self.dimension = dimension\n",
    "        self.approx = approx\n",
    "        self.eta = eta\n",
    "        self.lbd = lbd\n",
    "\n",
    "    def gradient(self, V, b, theta):\n",
    "        return (self.eta * (V @ theta - b))\n",
    "        \n",
    "    def update_mean(self, mean, gradient, h):\n",
    "        return mean - h * gradient\n",
    "    \n",
    "    def update_cov(self, cov_semi, cov_semi_inv, hessian, h):\n",
    "        cov_semi = (np.eye(self.dimension) - h * hessian) @ cov_semi + h * cov_semi_inv.T\n",
    "        if self.approx:\n",
    "            cov_semi_inv = cov_semi_inv @ (np.eye(self.dimension) - h * (np.matmul(cov_semi_inv.T , cov_semi_inv) - hessian))\n",
    "        else:\n",
    "            cov_semi_inv = np.linalg.pinv(cov_semi)\n",
    "        return cov_semi, cov_semi_inv\n",
    "    \n",
    "    def sample(self, mean, cov_semi):\n",
    "        eps = np.random.normal( size=(self.dimension, 1))\n",
    "        theta = mean.T + (cov_semi @ eps).squeeze()\n",
    "        return  theta.squeeze()\n",
    "    \n",
    "    def run(self, x, y, h, max_iter, eps, true_param):\n",
    "        mean = np.random.normal(0, 1 / np.sqrt(self.lbd * self.eta), size=(dimension,))\n",
    "        cov_semi = np.sqrt(1 / (self.eta * self.lbd)) * np.eye(self.dimension)\n",
    "        cov_semi_inv = np.sqrt((self.eta * self.lbd)) * np.eye(self.dimension)\n",
    "        V = self.lbd*np.eye(self.dimension) + x.T@x\n",
    "        b = y @ x\n",
    "        \n",
    "        hessian = self.eta * V\n",
    "        nb_iter, distances = 0, [np.linalg.norm(true_param-mean,ord=2)]\n",
    "        while nb_iter < max_iter and distances[-1] > eps:\n",
    "            nb_iter += 1\n",
    "            theta = self.sample(mean, cov_semi)\n",
    "            grad = self.gradient(V, b, theta)\n",
    "            mean = self.update_mean(mean, grad, h)\n",
    "            cov_semi, cov_semi_inv = self.update_cov(cov_semi, cov_semi_inv, hessian, h)\n",
    "            distances.append(np.linalg.norm(true_param-mean,ord=2))\n",
    "        return distances\n",
    "   "
   ]
  },
  {
   "cell_type": "code",
   "execution_count": 576,
   "id": "fc6f94f1",
   "metadata": {},
   "outputs": [
    {
     "name": "stdout",
     "output_type": "stream",
     "text": [
      "[SYSTEM] 0 0.0001 3.0284609692254887 lgv: 10001.0 vi: 116.0\n",
      "[SYSTEM] 0 0.0001 4.026679798183276 lgv: 10001.0 vi: 137.0\n",
      "[SYSTEM] 0 0.0001 4.966267182198532 lgv: 10001.0 vi: 156.0\n",
      "[SYSTEM] 0 0.0001 6.022170286257623 lgv: 10001.0 vi: 165.0\n",
      "[SYSTEM] 0 0.0001 7.021455870035063 lgv: 10001.0 vi: 163.0\n",
      "[SYSTEM] 0 0.0001 8.148089946245888 lgv: 10001.0 vi: 163.0\n"
     ]
    }
   ],
   "source": [
    "from tqdm.notebook import tqdm\n",
    "\n",
    "def compute_condition_number(x):\n",
    "    Sigma = eta * (lbd*np.eye(dimension) + x.T@x)\n",
    "    return np.linalg.cond(Sigma) \n",
    "\n",
    "def generate_data(T, dimension, rank, true_weights):\n",
    "    x = make_low_rank_matrix(n_samples=T, n_features=dimension,effective_rank=rank)\n",
    "    x /= np.linalg.norm(x, 2, axis=1, keepdims=True)\n",
    "    y = x @ true_weights\n",
    "    return x, y\n",
    "\n",
    "#def generate_data(T, dimension, kappa, true_weight):\n",
    "#    x = make_low_rank_matrix(n_samples=T, n_features=dimension, effective_rank=50)\n",
    "#    eigenvalues, P = np.linalg.eig(x.T @ x)\n",
    "#    D = P.T @ (x.T @ x) @ P\n",
    "#    idx = np.argmax(np.diag(D))\n",
    "#    D[idx, idx] *= kappa * (lbd + np.min(eigenvalues)) - lbd\n",
    "#    D = np.diag(np.diag(D))\n",
    "#    M = np.sqrt(D) @ P.T\n",
    "#    M = np.repeat(M, 50, axis=0)\n",
    "#    y = M @ true_weight\n",
    "#    return M, y\n",
    "\n",
    "\n",
    "def plot_func(T, dimension, nb_seeds, data, h_values, max_iter, eps):\n",
    "    seeds = np.arange(nb_seeds)\n",
    "    distance_lmc = np.zeros((len(h_values), nb_seeds, len(data)))\n",
    "    distance_vi_approx = np.zeros((len(h_values), nb_seeds, len(data)))\n",
    "    distance_vi_non_approx = np.zeros((len(h_values), nb_seeds, len(data)))\n",
    "    condition_number = np.zeros((len(h_values), nb_seeds, len(data)))\n",
    "    \n",
    "    langevin = LMC(dimension, eta, lbd)\n",
    "    vi_approx = VI_gaussian(dimension, eta, lbd,  approx=True)\n",
    "    vi_non_approx = VI_gaussian(dimension, eta, lbd,  approx=False)\n",
    "    true_weights = np.random.normal(0, 1, size=(dimension,))\n",
    "    true_weights /= np.linalg.norm(true_weights, ord=2)\n",
    "    \n",
    "    for id_data, (cond, x) in enumerate(data.values()):\n",
    "        y = x @ true_weights\n",
    "        for h_idx, h in enumerate(h_values):\n",
    "            for id_seed, seed in enumerate(seeds):\n",
    "                np.random.seed(seed)\n",
    "                distance_lmc[h_idx, id_seed, id_data] = len(langevin.run(x, y, h, max_iter, eps, true_weights))\n",
    "                distance_vi_approx[h_idx, id_seed, id_data] = len(vi_approx.run(x, y, h, max_iter, eps, true_weights))\n",
    "                distance_vi_non_approx[h_idx, id_seed, id_data] = len(vi_approx.run(x, y, h, max_iter, eps, true_weights))\n",
    "                condition_number[h_idx, id_seed, id_data] = cond\n",
    "                print('[SYSTEM]', seed, h, cond, f'lgv: {distance_lmc[h_idx, id_seed, id_data]}',  f'vi: {distance_vi_approx[h_idx, id_seed, id_data]}')\n",
    "                \n",
    "    return distance_lmc, distance_vi_approx, distance_vi_non_approx, condition_number\n",
    "\n",
    "    \n",
    "dimension = 50\n",
    "nb_seeds = 1\n",
    "h_values = [1e-4]\n",
    "T = 50000\n",
    "max_iter = 10000\n",
    "eps = 0.6\n",
    "eta = 1\n",
    "lbd = 0.0001\n",
    "\n",
    "    \n",
    "dist_lmc, dist_vi_approx, dist_vi_non_approx, cond = plot_func(T, dimension, nb_seeds, result, h_values, max_iter, eps)"
   ]
  },
  {
   "cell_type": "code",
   "execution_count": null,
   "id": "8a2e2aa7-bc3a-4e79-816f-42c2fc03b04f",
   "metadata": {},
   "outputs": [],
   "source": [
    "import matplotlib.pyplot as plt\n",
    "import numpy as np\n",
    "import matplotlib.patches as mpatches\n",
    "\n",
    "    \n",
    "def boxplot(h_idx, h_list, dist_lmc, dist_vi_approx, dist_vi_non_approx, cond):\n",
    "    def add_label(violin, label, labels):\n",
    "        color = violin[\"bodies\"][0].get_facecolor().flatten()\n",
    "        labels.append((mpatches.Patch(color=color), label))\n",
    "        return labels\n",
    "    plt.figure(figsize=(10, 7))\n",
    "    condition_numbers = cond[h_idx, 0, :]\n",
    "    labels = add_label(plt.violinplot(list(dist_lmc[h_idx].T), condition_numbers, showmeans=True, showextrema=False), \"lgv\", [])\n",
    "    labels = add_label(plt.violinplot(list(dist_vi_approx[h_idx].T), condition_numbers, showmeans=True, showextrema=False), \"vi approx\", labels)\n",
    "    labels = add_label(plt.violinplot(list(dist_vi_non_approx[h_idx].T), condition_numbers, showmeans=True, showextrema=False), \"vi non approx\", labels)\n",
    "    plt.grid()\n",
    "    plt.xscale('log')\n",
    "    plt.yscale('log')\n",
    "    plt.legend(*zip(*labels), loc=4)\n",
    "    plt.title(f'Step size: {h_list[h_idx]}')\n",
    "    plt.show()\n",
    "    \n",
    "boxplot(0, h_values, dist_lmc, dist_vi_approx, dist_vi_non_approx, cond)\n",
    "#boxplot(1, h_values, dist_lmc, dist_vi_approx, dist_vi_non_approx, cond)\n",
    "#boxplot(2, h_values, dist_lmc, dist_vi_approx, dist_vi_non_approx, cond)"
   ]
  },
  {
   "cell_type": "code",
   "execution_count": 591,
   "id": "ced32b4e-6202-4e40-88c7-36e9b31bd61c",
   "metadata": {},
   "outputs": [
    {
     "data": {
      "image/png": "[encoded data removed]",
      "text/plain": [
       "<Figure size 432x288 with 1 Axes>"
      ]
     },
     "metadata": {
      "needs_background": "light"
     },
     "output_type": "display_data"
    },
    {
     "data": {
      "text/plain": [
       "0.9985325333515306"
      ]
     },
     "execution_count": 591,
     "metadata": {},
     "output_type": "execute_result"
    }
   ],
   "source": [
    "true_weights = np.random.normal(0, 1, size=(dimension,))\n",
    "true_weights /= np.linalg.norm(true_weights, ord=2)\n",
    "#x = make_low_rank_matrix(n_samples=T, n_features=dimension,effective_rank=50, random_state=n)\n",
    "#x /= np.linalg.norm(x, ord=2, axis=1, keepdims=True)\n",
    "\n",
    "cond, x = result[8.148089946245888]\n",
    "\n",
    "y = x @ true_weights\n",
    "\n",
    "h = 1e-4\n",
    "max_iter = 100\n",
    "lbd = 1e-3\n",
    "\n",
    "langevin = LMC(dimension, eta, lbd)\n",
    "vi_approx = VI_gaussian(dimension, eta, lbd,  approx=True)\n",
    "vi_non_approx = VI_gaussian(dimension, eta, lbd,  approx=False)\n",
    "\n",
    "distances = langevin.run(x, y, h, max_iter, eps)\n",
    "\n",
    "plt.plot(distances)\n",
    "plt.hlines(0.5, 0, max_iter, 'r')\n",
    "plt.yscale('log')\n",
    "plt.show()\n",
    "np.min(distances)"
   ]
  },
  {
   "cell_type": "code",
   "execution_count": null,
   "id": "39b4dec6-0b3c-437a-897a-10346e3d1228",
   "metadata": {},
   "outputs": [],
   "source": []
  },
  {
   "cell_type": "code",
   "execution_count": null,
   "id": "0a198364-f4ac-44d7-9ea0-d3c45d2b8d7e",
   "metadata": {},
   "outputs": [],
   "source": []
  },
  {
   "cell_type": "code",
   "execution_count": 497,
   "id": "e3f79411-e259-45cf-9f09-ad61fb3f296a",
   "metadata": {},
   "outputs": [
    {
     "data": {
      "application/vnd.jupyter.widget-view+json": {
       "model_id": "8d381354c5594a7aa6e14965a93603b3",
       "version_major": 2,
       "version_minor": 0
      },
      "text/plain": [
       "HBox(children=(FloatProgress(value=0.0, max=5000.0), HTML(value='')))"
      ]
     },
     "metadata": {},
     "output_type": "display_data"
    },
    {
     "name": "stdout",
     "output_type": "stream",
     "text": [
      "\n"
     ]
    }
   ],
   "source": [
    "import pickle as pkl\n",
    "def generate_data(T, dimension, rank, true_weights):\n",
    "    x = make_low_rank_matrix(n_samples=T, n_features=dimension,effective_rank=rank)\n",
    "    x /= np.linalg.norm(x, 2, axis=1, keepdims=True)\n",
    "    y = x @ true_weights\n",
    "    return x, y\n",
    "\n",
    "def compute_condition_number(x):\n",
    "    Sigma = eta * (lbd*np.eye(dimension) + x.T@x)\n",
    "    return np.linalg.cond(Sigma) \n",
    "\n",
    "eps = 0.01\n",
    "conditions = np.array([1, 2, 3, 4])\n",
    "result = {}\n",
    "for n in tqdm(range(5000)):\n",
    "    rank =  49 * np.random.rand() + 0.5\n",
    "    x = make_low_rank_matrix(n_samples=T, n_features=dimension,effective_rank=rank, random_state=n)\n",
    "    x /= np.linalg.norm(x, ord=2, axis=1, keepdims=True)\n",
    "    cond = compute_condition_number(x)\n",
    "    idx = np.argwhere(np.abs(cond - conditions) / conditions < eps)\n",
    "    if len(idx) == 1:\n",
    "        result[conditions[idx[0]][0]] = (cond, x)\n",
    "        \n",
    "result.keys()\n",
    "pkl.dump(result, open('data.pkl', 'wb'))"
   ]
  },
  {
   "cell_type": "code",
   "execution_count": 498,
   "id": "7be7bdbc-36e3-4cf3-ab59-fd46f6bc0ca8",
   "metadata": {},
   "outputs": [
    {
     "name": "stdout",
     "output_type": "stream",
     "text": [
      "[3, 4]\n"
     ]
    }
   ],
   "source": [
    "print(sorted(list(result.keys())))"
   ]
  },
  {
   "cell_type": "code",
   "execution_count": 566,
   "id": "309c5746-111c-4d9f-8061-a4136724e11b",
   "metadata": {},
   "outputs": [],
   "source": [
    "result = {}\n",
    "for rank in [41, 33, 27, 20, 15, 12]:\n",
    "    x = make_low_rank_matrix(n_samples=T, n_features=dimension,effective_rank=rank, random_state=2)\n",
    "    x /= np.linalg.norm(x, ord=2, axis=1, keepdims=True)\n",
    "    cond = compute_condition_number(x)\n",
    "    result[cond] = (cond, x)"
   ]
  },
  {
   "cell_type": "code",
   "execution_count": 567,
   "id": "c5242d08-0719-4162-9914-9f788d268413",
   "metadata": {},
   "outputs": [
    {
     "data": {
      "text/plain": [
       "dict_keys([3.0284609692254887, 4.026679798183276, 4.966267182198532, 6.022170286257623, 7.021455870035063, 8.148089946245888])"
      ]
     },
     "execution_count": 567,
     "metadata": {},
     "output_type": "execute_result"
    }
   ],
   "source": [
    "result.keys()"
   ]
  },
  {
   "cell_type": "code",
   "execution_count": 541,
   "id": "517b500b-0744-4be8-bb2b-24182cdc0102",
   "metadata": {},
   "outputs": [],
   "source": [
    "# 41 -> 3\n",
    "# 33 -> 4\n",
    "# 27 -> 5\n",
    "# 20 -> 6\n",
    "# 15 -> 7\n",
    "# 12 -> 8\n"
   ]
  },
  {
   "cell_type": "code",
   "execution_count": 565,
   "id": "0b49080e-0914-47d6-9b8c-96dcecbd7540",
   "metadata": {},
   "outputs": [
    {
     "data": {
      "text/plain": [
       "8.154683515683523"
      ]
     },
     "execution_count": 565,
     "metadata": {},
     "output_type": "execute_result"
    }
   ],
   "source": [
    "x = make_low_rank_matrix(n_samples=T, n_features=dimension,effective_rank=12, random_state=n)\n",
    "x /= np.linalg.norm(x, ord=2, axis=1, keepdims=True)\n",
    "compute_condition_number(x)"
   ]
  },
  {
   "cell_type": "code",
   "execution_count": null,
   "id": "a9101d50-fc1f-4f8e-b464-d749851b2f41",
   "metadata": {},
   "outputs": [],
   "source": []
  },
  {
   "cell_type": "code",
   "execution_count": 508,
   "id": "ff76d17a-f13a-496f-aeff-ab03d6a252a2",
   "metadata": {},
   "outputs": [
    {
     "data": {
      "application/vnd.jupyter.widget-view+json": {
       "model_id": "c9ade0e144094801a46d187b44010450",
       "version_major": 2,
       "version_minor": 0
      },
      "text/plain": [
       "HBox(children=(FloatProgress(value=0.0, max=1000.0), HTML(value='')))"
      ]
     },
     "metadata": {},
     "output_type": "display_data"
    },
    {
     "ename": "KeyboardInterrupt",
     "evalue": "",
     "output_type": "error",
     "traceback": [
      "\u001b[0;31m---------------------------------------------------------------------------\u001b[0m",
      "\u001b[0;31mKeyboardInterrupt\u001b[0m                         Traceback (most recent call last)",
      "Input \u001b[0;32mIn [508]\u001b[0m, in \u001b[0;36m<cell line: 2>\u001b[0;34m()\u001b[0m\n\u001b[1;32m      1\u001b[0m r \u001b[38;5;241m=\u001b[39m []\n\u001b[1;32m      2\u001b[0m \u001b[38;5;28;01mfor\u001b[39;00m n \u001b[38;5;129;01min\u001b[39;00m tqdm(\u001b[38;5;28mrange\u001b[39m(\u001b[38;5;241m1000\u001b[39m)):\n\u001b[1;32m      3\u001b[0m     \u001b[38;5;66;03m#rank = 49 * np.random.rand() + 0.5\u001b[39;00m\n\u001b[0;32m----> 4\u001b[0m     x \u001b[38;5;241m=\u001b[39m \u001b[43mmake_low_rank_matrix\u001b[49m\u001b[43m(\u001b[49m\u001b[43mn_samples\u001b[49m\u001b[38;5;241;43m=\u001b[39;49m\u001b[43mT\u001b[49m\u001b[43m,\u001b[49m\u001b[43m \u001b[49m\u001b[43mn_features\u001b[49m\u001b[38;5;241;43m=\u001b[39;49m\u001b[43mdimension\u001b[49m\u001b[43m,\u001b[49m\u001b[43meffective_rank\u001b[49m\u001b[38;5;241;43m=\u001b[39;49m\u001b[38;5;241;43m5\u001b[39;49m\u001b[43m,\u001b[49m\u001b[43m \u001b[49m\u001b[43mrandom_state\u001b[49m\u001b[38;5;241;43m=\u001b[39;49m\u001b[43mn\u001b[49m\u001b[43m)\u001b[49m\n\u001b[1;32m      5\u001b[0m     x \u001b[38;5;241m/\u001b[39m\u001b[38;5;241m=\u001b[39m np\u001b[38;5;241m.\u001b[39mlinalg\u001b[38;5;241m.\u001b[39mnorm(x, \u001b[38;5;28mord\u001b[39m\u001b[38;5;241m=\u001b[39m\u001b[38;5;241m2\u001b[39m, axis\u001b[38;5;241m=\u001b[39m\u001b[38;5;241m1\u001b[39m, keepdims\u001b[38;5;241m=\u001b[39m\u001b[38;5;28;01mTrue\u001b[39;00m)\n\u001b[1;32m      6\u001b[0m     r\u001b[38;5;241m.\u001b[39mappend(compute_condition_number(x))\n",
      "File \u001b[0;32m~/opt/anaconda3/lib/python3.9/site-packages/sklearn/datasets/_samples_generator.py:1222\u001b[0m, in \u001b[0;36mmake_low_rank_matrix\u001b[0;34m(n_samples, n_features, effective_rank, tail_strength, random_state)\u001b[0m\n\u001b[1;32m   1220\u001b[0m \u001b[38;5;66;03m# Random (ortho normal) vectors\u001b[39;00m\n\u001b[1;32m   1221\u001b[0m u, _ \u001b[38;5;241m=\u001b[39m linalg\u001b[38;5;241m.\u001b[39mqr(generator\u001b[38;5;241m.\u001b[39mrandn(n_samples, n), mode\u001b[38;5;241m=\u001b[39m\u001b[38;5;124m\"\u001b[39m\u001b[38;5;124meconomic\u001b[39m\u001b[38;5;124m\"\u001b[39m, check_finite\u001b[38;5;241m=\u001b[39m\u001b[38;5;28;01mFalse\u001b[39;00m)\n\u001b[0;32m-> 1222\u001b[0m v, _ \u001b[38;5;241m=\u001b[39m \u001b[43mlinalg\u001b[49m\u001b[38;5;241;43m.\u001b[39;49m\u001b[43mqr\u001b[49m\u001b[43m(\u001b[49m\n\u001b[1;32m   1223\u001b[0m \u001b[43m    \u001b[49m\u001b[43mgenerator\u001b[49m\u001b[38;5;241;43m.\u001b[39;49m\u001b[43mrandn\u001b[49m\u001b[43m(\u001b[49m\u001b[43mn_features\u001b[49m\u001b[43m,\u001b[49m\u001b[43m \u001b[49m\u001b[43mn\u001b[49m\u001b[43m)\u001b[49m\u001b[43m,\u001b[49m\u001b[43m \u001b[49m\u001b[43mmode\u001b[49m\u001b[38;5;241;43m=\u001b[39;49m\u001b[38;5;124;43m\"\u001b[39;49m\u001b[38;5;124;43meconomic\u001b[39;49m\u001b[38;5;124;43m\"\u001b[39;49m\u001b[43m,\u001b[49m\u001b[43m \u001b[49m\u001b[43mcheck_finite\u001b[49m\u001b[38;5;241;43m=\u001b[39;49m\u001b[38;5;28;43;01mFalse\u001b[39;49;00m\n\u001b[1;32m   1224\u001b[0m \u001b[43m\u001b[49m\u001b[43m)\u001b[49m\n\u001b[1;32m   1226\u001b[0m \u001b[38;5;66;03m# Index of the singular values\u001b[39;00m\n\u001b[1;32m   1227\u001b[0m singular_ind \u001b[38;5;241m=\u001b[39m np\u001b[38;5;241m.\u001b[39marange(n, dtype\u001b[38;5;241m=\u001b[39mnp\u001b[38;5;241m.\u001b[39mfloat64)\n",
      "File \u001b[0;32m~/opt/anaconda3/lib/python3.9/site-packages/scipy/linalg/decomp_qr.py:147\u001b[0m, in \u001b[0;36mqr\u001b[0;34m(a, overwrite_a, lwork, mode, pivoting, check_finite)\u001b[0m\n\u001b[1;32m    145\u001b[0m     R \u001b[38;5;241m=\u001b[39m numpy\u001b[38;5;241m.\u001b[39mtriu(qr)\n\u001b[1;32m    146\u001b[0m \u001b[38;5;28;01melse\u001b[39;00m:\n\u001b[0;32m--> 147\u001b[0m     R \u001b[38;5;241m=\u001b[39m \u001b[43mnumpy\u001b[49m\u001b[38;5;241;43m.\u001b[39;49m\u001b[43mtriu\u001b[49m\u001b[43m(\u001b[49m\u001b[43mqr\u001b[49m\u001b[43m[\u001b[49m\u001b[43m:\u001b[49m\u001b[43mN\u001b[49m\u001b[43m,\u001b[49m\u001b[43m \u001b[49m\u001b[43m:\u001b[49m\u001b[43m]\u001b[49m\u001b[43m)\u001b[49m\n\u001b[1;32m    149\u001b[0m \u001b[38;5;28;01mif\u001b[39;00m pivoting:\n\u001b[1;32m    150\u001b[0m     Rj \u001b[38;5;241m=\u001b[39m R, jpvt\n",
      "File \u001b[0;32m<__array_function__ internals>:180\u001b[0m, in \u001b[0;36mtriu\u001b[0;34m(*args, **kwargs)\u001b[0m\n",
      "File \u001b[0;32m~/opt/anaconda3/lib/python3.9/site-packages/numpy/lib/twodim_base.py:530\u001b[0m, in \u001b[0;36mtriu\u001b[0;34m(m, k)\u001b[0m\n\u001b[1;32m    493\u001b[0m \u001b[38;5;250m\u001b[39m\u001b[38;5;124;03m\"\"\"\u001b[39;00m\n\u001b[1;32m    494\u001b[0m \u001b[38;5;124;03mUpper triangle of an array.\u001b[39;00m\n\u001b[1;32m    495\u001b[0m \n\u001b[0;32m   (...)\u001b[0m\n\u001b[1;32m    527\u001b[0m \n\u001b[1;32m    528\u001b[0m \u001b[38;5;124;03m\"\"\"\u001b[39;00m\n\u001b[1;32m    529\u001b[0m m \u001b[38;5;241m=\u001b[39m asanyarray(m)\n\u001b[0;32m--> 530\u001b[0m mask \u001b[38;5;241m=\u001b[39m \u001b[43mtri\u001b[49m\u001b[43m(\u001b[49m\u001b[38;5;241;43m*\u001b[39;49m\u001b[43mm\u001b[49m\u001b[38;5;241;43m.\u001b[39;49m\u001b[43mshape\u001b[49m\u001b[43m[\u001b[49m\u001b[38;5;241;43m-\u001b[39;49m\u001b[38;5;241;43m2\u001b[39;49m\u001b[43m:\u001b[49m\u001b[43m]\u001b[49m\u001b[43m,\u001b[49m\u001b[43m \u001b[49m\u001b[43mk\u001b[49m\u001b[38;5;241;43m=\u001b[39;49m\u001b[43mk\u001b[49m\u001b[38;5;241;43m-\u001b[39;49m\u001b[38;5;241;43m1\u001b[39;49m\u001b[43m,\u001b[49m\u001b[43m \u001b[49m\u001b[43mdtype\u001b[49m\u001b[38;5;241;43m=\u001b[39;49m\u001b[38;5;28;43mbool\u001b[39;49m\u001b[43m)\u001b[49m\n\u001b[1;32m    532\u001b[0m \u001b[38;5;28;01mreturn\u001b[39;00m where(mask, zeros(\u001b[38;5;241m1\u001b[39m, m\u001b[38;5;241m.\u001b[39mdtype), m)\n",
      "File \u001b[0;32m~/opt/anaconda3/lib/python3.9/site-packages/numpy/lib/twodim_base.py:418\u001b[0m, in \u001b[0;36mtri\u001b[0;34m(N, M, k, dtype, like)\u001b[0m\n\u001b[1;32m    415\u001b[0m \u001b[38;5;28;01mif\u001b[39;00m M \u001b[38;5;129;01mis\u001b[39;00m \u001b[38;5;28;01mNone\u001b[39;00m:\n\u001b[1;32m    416\u001b[0m     M \u001b[38;5;241m=\u001b[39m N\n\u001b[0;32m--> 418\u001b[0m m \u001b[38;5;241m=\u001b[39m \u001b[43mgreater_equal\u001b[49m\u001b[38;5;241;43m.\u001b[39;49m\u001b[43mouter\u001b[49m\u001b[43m(\u001b[49m\u001b[43marange\u001b[49m\u001b[43m(\u001b[49m\u001b[43mN\u001b[49m\u001b[43m,\u001b[49m\u001b[43m \u001b[49m\u001b[43mdtype\u001b[49m\u001b[38;5;241;43m=\u001b[39;49m\u001b[43m_min_int\u001b[49m\u001b[43m(\u001b[49m\u001b[38;5;241;43m0\u001b[39;49m\u001b[43m,\u001b[49m\u001b[43m \u001b[49m\u001b[43mN\u001b[49m\u001b[43m)\u001b[49m\u001b[43m)\u001b[49m\u001b[43m,\u001b[49m\n\u001b[1;32m    419\u001b[0m \u001b[43m                        \u001b[49m\u001b[43marange\u001b[49m\u001b[43m(\u001b[49m\u001b[38;5;241;43m-\u001b[39;49m\u001b[43mk\u001b[49m\u001b[43m,\u001b[49m\u001b[43m \u001b[49m\u001b[43mM\u001b[49m\u001b[38;5;241;43m-\u001b[39;49m\u001b[43mk\u001b[49m\u001b[43m,\u001b[49m\u001b[43m \u001b[49m\u001b[43mdtype\u001b[49m\u001b[38;5;241;43m=\u001b[39;49m\u001b[43m_min_int\u001b[49m\u001b[43m(\u001b[49m\u001b[38;5;241;43m-\u001b[39;49m\u001b[43mk\u001b[49m\u001b[43m,\u001b[49m\u001b[43m \u001b[49m\u001b[43mM\u001b[49m\u001b[43m \u001b[49m\u001b[38;5;241;43m-\u001b[39;49m\u001b[43m \u001b[49m\u001b[43mk\u001b[49m\u001b[43m)\u001b[49m\u001b[43m)\u001b[49m\u001b[43m)\u001b[49m\n\u001b[1;32m    421\u001b[0m \u001b[38;5;66;03m# Avoid making a copy if the requested type is already bool\u001b[39;00m\n\u001b[1;32m    422\u001b[0m m \u001b[38;5;241m=\u001b[39m m\u001b[38;5;241m.\u001b[39mastype(dtype, copy\u001b[38;5;241m=\u001b[39m\u001b[38;5;28;01mFalse\u001b[39;00m)\n",
      "\u001b[0;31mKeyboardInterrupt\u001b[0m: "
     ]
    }
   ],
   "source": [
    "r = []\n",
    "for n in tqdm(range(1000)):\n",
    "    #rank = 49 * np.random.rand() + 0.5\n",
    "    x = make_low_rank_matrix(n_samples=T, n_features=dimension,effective_rank=5, random_state=n)\n",
    "    x /= np.linalg.norm(x, ord=2, axis=1, keepdims=True)\n",
    "    r.append(compute_condition_number(x))"
   ]
  },
  {
   "cell_type": "code",
   "execution_count": null,
   "id": "54f0b474-62e5-43b7-966c-fa3aca719f7a",
   "metadata": {},
   "outputs": [],
   "source": [
    "np.min(r)"
   ]
  },
  {
   "cell_type": "code",
   "execution_count": null,
   "id": "c547bf80-44c0-4a3c-8721-679702913186",
   "metadata": {},
   "outputs": [],
   "source": [
    "plt.hist(r, bins=100)\n",
    "plt.xscale('log')\n",
    "plt.show()"
   ]
  },
  {
   "cell_type": "code",
   "execution_count": null,
   "id": "dcf84d5d-1f74-4afa-8ed8-2b10c1a6d56c",
   "metadata": {},
   "outputs": [],
   "source": [
    "\n"
   ]
  },
  {
   "cell_type": "code",
   "execution_count": null,
   "id": "f0ce4be3-3246-4dbd-aaff-e439a0dc757a",
   "metadata": {},
   "outputs": [],
   "source": []
  },
  {
   "cell_type": "code",
   "execution_count": null,
   "id": "2dec5b59-2d4e-4349-83c4-a9c04fec1d2f",
   "metadata": {},
   "outputs": [],
   "source": []
  },
  {
   "cell_type": "code",
   "execution_count": null,
   "id": "19c24ad9-02cd-450a-97bd-3ca25246febb",
   "metadata": {},
   "outputs": [],
   "source": []
  },
  {
   "cell_type": "code",
   "execution_count": 92,
   "id": "309455b4-d4f6-4528-b321-2ba7f7157186",
   "metadata": {},
   "outputs": [],
   "source": [
    "import numpy as np\n",
    "import matplotlib.pyplot as plt\n",
    "from tqdm.notebook import tqdm\n",
    "class LMC(object):\n",
    "    def __init__(self, dimension):\n",
    "        self.dimension = dimension\n",
    "        \n",
    "    def gradient(self, theta, mean, cov_inv):\n",
    "        return  2 * cov_inv @ (theta - mean)\n",
    "        \n",
    "    def update(self, theta, gradient, h):\n",
    "        noise = np.random.normal(0, np.sqrt(2 * h), size=(self.dimension,))\n",
    "        return theta - h * gradient +  noise \n",
    "        \n",
    "    def run(self, h, max_iter, mean, cov_inv):\n",
    "        theta = np.random.normal(0, 1, size=(self.dimension,))\n",
    "        thetas = [theta]\n",
    "        for nb_iter in range(max_iter):\n",
    "            grad = self.gradient(theta, mean, cov_inv)\n",
    "            theta = self.update(theta, grad, h)\n",
    "            thetas.append(theta)\n",
    "        return np.array(thetas)\n",
    "\n",
    "class VIGaussian(object):\n",
    "\n",
    "    def __init__(self, dimension):\n",
    "        self.dimension = dimension\n",
    "\n",
    "    def gradient(self, theta, mean, cov_inv):\n",
    "        return  2 * cov_inv @ (theta - mean)\n",
    "        \n",
    "    def update_mean(self, mean, gradient, h):\n",
    "        return mean - h * gradient\n",
    "    \n",
    "    def update_cov(self, cov_semi, cov_semi_inv, cov_post_in, h):\n",
    "        cov_semi = (np.eye(self.dimension) - 2 * h * cov_post_in) @ cov_semi + h * cov_semi_inv.T\n",
    "        cov_semi_inv = np.linalg.pinv(cov_semi)\n",
    "        return cov_semi, cov_semi_inv\n",
    "    \n",
    "    def sample(self, mean, cov_semi):\n",
    "        eps = np.random.normal( size=(self.dimension, 1))\n",
    "        theta = mean.T + (cov_semi @ eps).squeeze()\n",
    "        return  theta.squeeze()\n",
    "    \n",
    "    def run(self, h, max_iter, mean_post, cov_inv_post):\n",
    "        mean = np.zeros(self.dimension)\n",
    "        cov_semi = np.eye(self.dimension)\n",
    "        cov_semi_inv = np.eye(self.dimension)\n",
    "        thetas = []\n",
    "        for nb_iter in range(max_iter):\n",
    "            theta = self.sample(mean, cov_semi)\n",
    "            thetas.append(theta)\n",
    "            grad = self.gradient(theta, mean_post, cov_inv_post)\n",
    "            mean = self.update_mean(mean, grad, h)\n",
    "            cov_semi, cov_semi_inv = self.update_cov(cov_semi, cov_semi_inv, cov_inv_post, h)\n",
    "        return np.array(thetas)\n",
    "   "
   ]
  },
  {
   "cell_type": "code",
   "execution_count": null,
   "id": "280400ad-7345-48db-8407-aa81b6149ae7",
   "metadata": {},
   "outputs": [],
   "source": []
  },
  {
   "cell_type": "code",
   "execution_count": 64,
   "id": "f46c44b2-7967-4002-898f-638bc61de9e9",
   "metadata": {},
   "outputs": [
    {
     "data": {
      "text/plain": [
       "5.000000000000001"
      ]
     },
     "execution_count": 64,
     "metadata": {},
     "output_type": "execute_result"
    }
   ],
   "source": [
    "def generate_cov_matrix(dimension, cond):\n",
    "    x = np.random.normal(0, 1, size=(dimension, 100))\n",
    "    x /= np.linalg.norm(x, ord=2, axis=1, keepdims=True)\n",
    "    M = x @ x.T\n",
    "    values, vector = np.linalg.eig(M)\n",
    "    values = values.real\n",
    "    vector = vector.real\n",
    "    D = np.diag(np.linspace(1/cond, 1, dimension))\n",
    "    return vector @ D @ vector.T\n",
    "\n",
    "\n",
    "def run_exp(mean_post, dimension, condition_numbers):\n",
    "    \n",
    "    for cond in condition_numbers:\n",
    "        cov_post = generate_cov_matrix(dimension, cond)\n",
    "        \n",
    "    \n",
    "cov = generate_cov_matrix(50, 5)\n",
    "np.linalg.cond(cov)"
   ]
  },
  {
   "cell_type": "code",
   "execution_count": null,
   "id": "15fbdcc3-bfd1-4edf-be5e-20f7815f8b39",
   "metadata": {},
   "outputs": [],
   "source": []
  },
  {
   "cell_type": "code",
   "execution_count": null,
   "id": "c64ec97d-6ca8-4f0d-a9b1-a48723b36ed4",
   "metadata": {},
   "outputs": [],
   "source": []
  },
  {
   "cell_type": "code",
   "execution_count": 125,
   "id": "3be81405-f835-4959-8be6-d48762c83eb6",
   "metadata": {},
   "outputs": [
    {
     "data": {
      "application/vnd.jupyter.widget-view+json": {
       "model_id": "56dca27dc70647cdab42ecc42578bacc",
       "version_major": 2,
       "version_minor": 0
      },
      "text/plain": [
       "HBox(children=(FloatProgress(value=0.0, max=9501.0), HTML(value='')))"
      ]
     },
     "metadata": {},
     "output_type": "display_data"
    },
    {
     "name": "stdout",
     "output_type": "stream",
     "text": [
      "\n"
     ]
    },
    {
     "data": {
      "application/vnd.jupyter.widget-view+json": {
       "model_id": "4c10b00a75b04e89bf93317df5fc5af5",
       "version_major": 2,
       "version_minor": 0
      },
      "text/plain": [
       "HBox(children=(FloatProgress(value=0.0, max=9500.0), HTML(value='')))"
      ]
     },
     "metadata": {},
     "output_type": "display_data"
    },
    {
     "name": "stdout",
     "output_type": "stream",
     "text": [
      "\n"
     ]
    },
    {
     "data": {
      "image/png": "[encoded data removed]",
      "text/plain": [
       "<Figure size 432x288 with 1 Axes>"
      ]
     },
     "metadata": {},
     "output_type": "display_data"
    }
   ],
   "source": [
    "dimension = 2\n",
    "cond = 1\n",
    "h = 1e-4\n",
    "\n",
    "cov_post = generate_cov_matrix(dimension, cond)\n",
    "cov_inv_post = np.linalg.inv(cov_post)\n",
    "\n",
    "mean_post = np.random.normal(0, 1, size=(dimension,))\n",
    "langevin = LMC(dimension)\n",
    "thetas_lmc = langevin.run(h, 10000, mean_post, cov_post)\n",
    "vi = VIGaussian(dimension)\n",
    "thetas_vi = vi.run(h, 10000, mean_post, cov_post)\n",
    "\n",
    "\n",
    "def get_kl(k, samples, mean, cov, cov_inv):\n",
    "    kl = []\n",
    "    for n in tqdm(range(500, len(samples))):\n",
    "        sub_sample = samples[: n]\n",
    "        m1 = np.mean(sub_sample)\n",
    "        #kl.append(np.linalg.norm(mean - m1))\n",
    "        cov1 = np.cov(sub_sample.T)\n",
    "        det_post = np.linalg.det(cov)\n",
    "        det = np.linalg.det(cov1)\n",
    "        kl.append(0.5 * (np.log(det_post / det) - k + (m1 - mean).T @ cov_inv @ (m1 - mean) + np.trace(cov_inv @ cov1)))\n",
    "    return kl\n",
    "    \n",
    "    \n",
    "plt.plot(get_kl(dimension, thetas_lmc, mean_post, cov_post, cov_inv_post), label='lmc')\n",
    "plt.plot(get_kl(dimension, thetas_vi, mean_post, cov_post, cov_inv_post), label='vi')\n",
    "plt.legend()\n",
    "plt.grid()\n",
    "plt.show()"
   ]
  },
  {
   "cell_type": "code",
   "execution_count": 100,
   "id": "af9532dd-7678-4f13-98ed-befc36c15527",
   "metadata": {},
   "outputs": [],
   "source": [
    "info = {}\n",
    "info['mean_post'] = np.array([1, 2])\n",
    "info['cov_post'] = np.array([[10, 0], [0, 1]])\n",
    "info['cov_inv_post'] = np.linalg.inv(info['cov_post'])\n",
    "\n",
    "\n",
    "\n",
    "def sample(info, n):\n",
    "    return np.random.multivariate_normal(mean_post, cov=cov_post, size=(n,))\n",
    "\n",
    "\n",
    "thetas = sample(info, 10000)"
   ]
  },
  {
   "cell_type": "code",
   "execution_count": 3,
   "id": "155c206b-cb9c-4b30-bdea-49c32a050099",
   "metadata": {},
   "outputs": [],
   "source": [
    "langevin = LMC(2)\n",
    "thetas_lmc = langevin.run(1e-4, 10000, info['mean_post'], info['cov_inv_post'])\n",
    "vi = VIGaussian(2)\n",
    "thetas_vi = vi.run(1e-4, 10000, info['mean_post'], info['cov_inv_post'])"
   ]
  },
  {
   "cell_type": "code",
   "execution_count": null,
   "id": "90a63983-f01f-4a3b-ad39-714a2ec4e71a",
   "metadata": {},
   "outputs": [],
   "source": []
  },
  {
   "cell_type": "code",
   "execution_count": 145,
   "id": "f88b5df2-d82f-47bf-8627-fe1a6c5a135f",
   "metadata": {},
   "outputs": [
    {
     "data": {
      "application/vnd.jupyter.widget-view+json": {
       "model_id": "efea56debdb746b386132c17d87ac746",
       "version_major": 2,
       "version_minor": 0
      },
      "text/plain": [
       "HBox(children=(FloatProgress(value=0.0, max=99996.0), HTML(value='')))"
      ]
     },
     "metadata": {},
     "output_type": "display_data"
    },
    {
     "name": "stdout",
     "output_type": "stream",
     "text": [
      "\n"
     ]
    },
    {
     "data": {
      "application/vnd.jupyter.widget-view+json": {
       "model_id": "5cf5d558b6f9482ca9c1370b220ab4f7",
       "version_major": 2,
       "version_minor": 0
      },
      "text/plain": [
       "HBox(children=(FloatProgress(value=0.0, max=99995.0), HTML(value='')))"
      ]
     },
     "metadata": {},
     "output_type": "display_data"
    },
    {
     "name": "stdout",
     "output_type": "stream",
     "text": [
      "\n"
     ]
    },
    {
     "data": {
      "image/png": "[encoded data removed]",
      "text/plain": [
       "<Figure size 432x288 with 1 Axes>"
      ]
     },
     "metadata": {
      "needs_background": "light"
     },
     "output_type": "display_data"
    }
   ],
   "source": [
    "\n"
   ]
  },
  {
   "cell_type": "code",
   "execution_count": 104,
   "id": "aeb6048a-20f0-41b9-87f6-4a5ac3e874a6",
   "metadata": {},
   "outputs": [
    {
     "data": {
      "image/png": "[encoded data removed]",
      "text/plain": [
       "<Figure size 432x288 with 1 Axes>"
      ]
     },
     "metadata": {},
     "output_type": "display_data"
    }
   ],
   "source": [
    "plt.scatter(thetas_lmc[:, 0], thetas_lmc[:, 1], label='lmc')\n",
    "#plt.scatter(thetas[:, 0], thetas[:, 1], label='post')\n",
    "#plt.scatter(thetas_vi[:, 0], thetas_vi[:, 1], label='vi')\n",
    "plt.legend()\n",
    "plt.xlim((-10, 10))\n",
    "plt.ylim((-10, 10))\n",
    "plt.grid()\n",
    "plt.show()"
   ]
  },
  {
   "cell_type": "code",
   "execution_count": 5,
   "id": "46579eee-a182-4c5d-9a9b-418d20427693",
   "metadata": {},
   "outputs": [
    {
     "name": "stdout",
     "output_type": "stream",
     "text": [
      "ok\n",
      "ok\n",
      "ok\n"
     ]
    },
    {
     "data": {
      "image/png": "[encoded data removed]",
      "text/plain": [
       "<Figure size 432x288 with 1 Axes>"
      ]
     },
     "metadata": {},
     "output_type": "display_data"
    }
   ],
   "source": [
    "import seaborn as sns\n",
    "import matplotlib.pyplot as plt\n",
    "\n",
    "sns.set_style(\"white\")\n",
    "sns.kdeplot(x=thetas[:, 0], y=thetas[:, 1], label='post')\n",
    "print('ok')\n",
    "sns.kdeplot(x=thetas_lmc[:, 0], y=thetas_lmc[:, 1], label='LMC')\n",
    "print('ok')\n",
    "sns.kdeplot(x=thetas_vi[:, 0], y=thetas_vi[:, 1], label='VI')\n",
    "print('ok')\n",
    "plt.grid()\n",
    "plt.legend()\n",
    "plt.show()"
   ]
  },
  {
   "cell_type": "code",
   "execution_count": null,
   "id": "099b20e4-ac43-4647-8d0c-3c63289052b8",
   "metadata": {},
   "outputs": [],
   "source": []
  }
 ],
 "metadata": {
  "kernelspec": {
   "display_name": "Python 3 (ipykernel)",
   "language": "python",
   "name": "python3"
  },
  "language_info": {
   "codemirror_mode": {
    "name": "ipython",
    "version": 3
   },
   "file_extension": ".py",
   "mimetype": "text/x-python",
   "name": "python",
   "nbconvert_exporter": "python",
   "pygments_lexer": "ipython3",
   "version": "3.9.12"
  }
 },
 "nbformat": 4,
 "nbformat_minor": 5
}
