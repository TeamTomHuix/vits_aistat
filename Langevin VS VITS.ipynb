{
 "cells": [
  {
   "cell_type": "markdown",
   "id": "c2b56884",
   "metadata": {},
   "source": [
    "**Comparaision VITS/Langevin**"
   ]
  },
  {
   "cell_type": "markdown",
   "id": "c2ca4c29",
   "metadata": {},
   "source": [
    "Data : \n",
    "\n",
    "Return \n",
    "- X, of dimention, n_samples, n_features\n",
    "- Y of dimention n_targets  * n_samples\n",
    "- theta star is true_weights\n",
    "\n",
    "A faire varier pour notre problème : \n",
    "\n",
    "- 1) Imporn_features with n_informative features pour l'exploration à montrer\n",
    "- 2) effective_rank : (int)  The approximate number of singular vectors required to explain most of the input data by linear combinations. \n"
   ]
  },
  {
   "cell_type": "markdown",
   "id": "8b7ff204",
   "metadata": {},
   "source": []
  },
  {
   "cell_type": "code",
   "execution_count": 533,
   "id": "3337f35d",
   "metadata": {},
   "outputs": [],
   "source": [
    "from sklearn.datasets._samples_generator import check_array, check_random_state, make_low_rank_matrix\n",
    "import numpy as np\n",
    "from sklearn.utils import shuffle as util_shuffle\n",
    "import matplotlib.pyplot as plt"
   ]
  },
  {
   "cell_type": "code",
   "execution_count": 534,
   "id": "21231455",
   "metadata": {},
   "outputs": [],
   "source": [
    "def regression_model(\n",
    "    n_samples=100,\n",
    "    n_features=100,\n",
    "    n_informative=10,\n",
    "    n_targets=1,\n",
    "    bias=0.0,\n",
    "    effective_rank=None,\n",
    "    tail_strength=0.9,\n",
    "    noise=1,\n",
    "    shuffle=True,\n",
    "    coef=True,\n",
    "    random_state=None,\n",
    "):\n",
    "    \n",
    "    n_informative = min(n_features, n_informative)\n",
    "    generator = check_random_state(random_state)\n",
    "\n",
    "    if effective_rank is None:\n",
    "        # Randomly generate a well conditioned input set\n",
    "        X = generator.standard_normal(size=(n_samples, n_features))\n",
    "    else:\n",
    "        # Randomly generate a low rank, fat tail input set\n",
    "        X = make_low_rank_matrix(\n",
    "            n_samples=n_samples,\n",
    "            n_features=n_features,\n",
    "            effective_rank=effective_rank,\n",
    "            tail_strength=tail_strength,\n",
    "            random_state=generator,\n",
    "        )\n",
    "\n",
    "    # Autre méthode pour matrice mal conditionnnée\n",
    "    #n_samples=100\n",
    "    #gauss_matrix= np.random.normal(size=(20,n_features))\n",
    "   # X=gauss_matrix[np.random.randint(gauss_matrix.shape[0], size=n_samples), : ]\n",
    "\n",
    "    print(\"cond\",np.linalg.cond(X.T@X))\n",
    "                    \n",
    "    ground_truth = np.zeros((n_features, n_targets))\n",
    "    ground_truth[:n_informative, :] = 100 * generator.uniform(\n",
    "        size=(n_informative, n_targets)\n",
    "    )\n",
    "\n",
    "    y = np.dot(X, ground_truth) + bias\n",
    "\n",
    "    # Add noise\n",
    "    if noise > 0.0:\n",
    "        y += generator.normal(scale=noise, size=y.shape)\n",
    "\n",
    "    # Randomly permute samples and features\n",
    "    if shuffle:\n",
    "        X, y = util_shuffle(X, y, random_state=generator)\n",
    "\n",
    "        indices = np.arange(n_features)\n",
    "        generator.shuffle(indices)\n",
    "        X[:, :] = X[:, indices]\n",
    "        ground_truth = ground_truth[indices]\n",
    "\n",
    "    y = np.squeeze(y)\n",
    "\n",
    "    if coef:\n",
    "        return X, y, np.squeeze(ground_truth)\n",
    "    else:\n",
    "        return X, y"
   ]
  },
  {
   "cell_type": "code",
   "execution_count": 535,
   "id": "61d22114",
   "metadata": {},
   "outputs": [
    {
     "name": "stdout",
     "output_type": "stream",
     "text": [
      "cond 1.8156796618139512\n"
     ]
    }
   ],
   "source": [
    "x, y, true_weights = regression_model(n_samples=2000, n_features=50, n_informative=50, n_targets=1, \n",
    " bias=0.0, effective_rank=None, \n",
    " tail_strength=0.5, noise=0.0, \n",
    " shuffle=True, coef=True, random_state=None)"
   ]
  },
  {
   "cell_type": "markdown",
   "id": "c4ea5a7e",
   "metadata": {},
   "source": [
    "**Use ill conditionned matrix**"
   ]
  },
  {
   "cell_type": "code",
   "execution_count": 536,
   "id": "88070c0d",
   "metadata": {},
   "outputs": [
    {
     "name": "stdout",
     "output_type": "stream",
     "text": [
      "cond 104.89512356246173\n"
     ]
    }
   ],
   "source": [
    "x, y, true_weights = regression_model(n_samples=2000, n_features=50, n_informative=50, n_targets=1, \n",
    " bias=0.0, effective_rank=3, \n",
    " tail_strength=0.5, noise=0.0, \n",
    " shuffle=True, coef=True, random_state=None)"
   ]
  },
  {
   "cell_type": "code",
   "execution_count": 546,
   "id": "00115834",
   "metadata": {},
   "outputs": [
    {
     "data": {
      "text/plain": [
       "array([63.40080656, 47.02466059, 62.66134704, 38.68655144, 69.11053225,\n",
       "        6.23482625, 89.92368866, 87.08832843, 16.74595726, 33.43067525,\n",
       "       50.37829129, 18.98000944, 39.11202479, 63.12320324, 93.11651154,\n",
       "       58.77144698, 31.80645257, 19.85133066, 64.51976769, 48.2383182 ,\n",
       "       39.91255388, 15.96424933, 41.90290226, 74.46311115, 55.51936057,\n",
       "       66.64596847,  1.66590322, 47.83003445, 81.9915924 , 21.35250043,\n",
       "       80.64802981, 85.02488116, 13.98198812, 67.59129848,  2.35937956,\n",
       "       56.3319838 , 25.17529282, 43.39587485, 57.95791579, 31.07178632,\n",
       "       94.75873077, 18.11590328, 50.9771603 , 43.01271227, 71.64723989,\n",
       "       20.86695205, 58.44618778, 56.2346882 , 39.81482512, 53.96527872])"
      ]
     },
     "execution_count": 546,
     "metadata": {},
     "output_type": "execute_result"
    }
   ],
   "source": [
    "true_weights"
   ]
  },
  {
   "cell_type": "code",
   "execution_count": 549,
   "id": "947a2eca",
   "metadata": {},
   "outputs": [],
   "source": [
    "class LMC():\n",
    "    \n",
    "    def __init__(self, true_param, dimention,K=50):\n",
    "        \n",
    "        self.dimention=dimention\n",
    "        self.lbd=1\n",
    "        self.eta=1\n",
    "        self.true_param=true_param\n",
    "        self.K=K # pas utilisé\n",
    "        \n",
    "    def gradient(self,theta,y,x):\n",
    "        V=self.lbd*np.eye(self.dimention) + x.T@x\n",
    "        b=np.dot(y,x)\n",
    "        return -(self.eta*(V@theta-b))\n",
    "        \n",
    "    def hessian(self,x):\n",
    "        return self.eta*(self.lbd*np.eye(self.dimention) + x.T@x)\n",
    "        \n",
    "    #def sample(self, mean ):\n",
    "        \n",
    "    #    eps = np.random.normal( size=(self.dimention, 1))\n",
    "    #    theta = (mean.T +  self.eta* eps).squeeze()\n",
    "    #    return  theta\n",
    "\n",
    "    def update_mean(self, mean, gradient, h,T):\n",
    "        return mean - h * gradient + T *np.random.normal( size=(self.dimention, 1))\n",
    "    \n",
    "    def run(self,x,y,max_iter=10000):\n",
    "        \n",
    "        # initilialisation mean\n",
    "        mean=np.zeros(self.dimention)\n",
    "        dists=[]\n",
    "           \n",
    "        for t in range(max_iter):\n",
    "            h=1/(t+1)\n",
    "            # sample\n",
    "            #for k in range(self.K):\n",
    "            # compute grad and hessian\n",
    "            grad=self.gradient(mean,y,x)\n",
    "            # Update mean and cov\n",
    "            mean=self.update_mean(mean,grad,h,self.eta)\n",
    "            \n",
    "            # compute the distance\n",
    "            dists.append(np.linalg.norm(self.true_param-mean))\n",
    "            \n",
    "        return mean ,dists\n",
    "        \n",
    "class VI_gaussian():\n",
    "\n",
    "    def __init__(self,true_param,dimention,approx=False,K=10):\n",
    "        \n",
    "        self.dimention=dimention\n",
    "        self.lbd=1\n",
    "        self.eta=1\n",
    "        self.approx=approx\n",
    "        self.true_param=true_param\n",
    "        self.K=K\n",
    "        \n",
    "    def gradient(self,theta,y,x):\n",
    "        V=self.lbd*np.eye(self.dimention) + x.T@x\n",
    "        #print(x.shape, (x.T@x).shape)\n",
    "           \n",
    "        b=np.dot(y,x)\n",
    "        #print(\"b\",b.shape)\n",
    "        return -(self.eta*(V*theta-b))\n",
    "        \n",
    "    def hessian(self,x):\n",
    "        return self.eta*(self.lbd*np.eye(self.dimention) + x.T@x)\n",
    "    \n",
    "    def update_mean(self, mean, gradient, h):\n",
    "        return mean - h * gradient\n",
    "    \n",
    "    def update_cov(self, cov_semi, cov_semi_inv, hessian, h):\n",
    "        cov_semi = (np.eye(self.dimention) - h * hessian) @ cov_semi + h * cov_semi_inv.T\n",
    "        \n",
    "        if self.approx:\n",
    "            cov_semi_inv = cov_semi_inv @ (np.eye(self.dimention) - h * (np.matmul(cov_semi_inv.T , cov_semi_inv) - hessian))\n",
    "        else:\n",
    "            cov_semi_inv = np.linalg.inv(cov_semi)\n",
    "        return cov_semi, cov_semi_inv\n",
    "    \n",
    "    def sample(self, mean, cov_semi):\n",
    "        \n",
    "        eps = np.random.normal( size=(self.dimention, 1))\n",
    "        theta = (mean.T + cov_semi @ eps).squeeze()\n",
    "        return  theta\n",
    "    \n",
    "    def compute_cond_number(self, mean, cov_semi,label,features):\n",
    "        features, labels, mean, cov_semi, _ = utils_vector\n",
    "        theta = self.sample( mean, cov_semi)\n",
    "        regularization_hessian = 2 * self.lbd * jnp.eye(self.dimension)\n",
    "        data_hessian = np.sum(jax.vmap(self.hessian_function, in_axes=(None, 0, 0))(theta, features, labels), axis=0)\n",
    "        hessian = self.eta *  (regularization_hessian + data_hessian)\n",
    "        return np.linalg.cond(hessian)\n",
    "    \n",
    "    def run(self,x,y,max_iter=100):\n",
    "        \n",
    "        mean=np.zeros(self.dimention)\n",
    "        cov=self.eta* np.eye(self.dimention)\n",
    "        dists=[]\n",
    "        cov_inv=(1/self.eta)* np.eye(self.dimention)\n",
    "        \n",
    "        for t in range(max_iter):\n",
    "            h=1/(t+1)\n",
    "            # sample\n",
    "            #for k in range(self.K):\n",
    "            theta=self.sample(mean,cov)\n",
    "            # compute grad and hessian\n",
    "            grad,hess=self.gradient(theta,y,x),self.hessian(x)\n",
    "            \n",
    "            # Update mean and cov\n",
    "            mean=self.update_mean(mean,grad,h)\n",
    "            cov,cov_inv=self.update_cov(cov,cov_inv,hess,h)\n",
    "            \n",
    "            # compute the distance\n",
    "            dists.append(np.linalg.norm(self.true_param-mean))\n",
    "            \n",
    "        return mean, cov ,dists\n",
    "    "
   ]
  },
  {
   "cell_type": "markdown",
   "id": "66bfa412",
   "metadata": {},
   "source": [
    "**Algorrithms** : Langevin : VITS"
   ]
  },
  {
   "cell_type": "code",
   "execution_count": 550,
   "id": "83f30e69",
   "metadata": {},
   "outputs": [],
   "source": [
    "langevin=LMC(true_weights,true_weights.shape[0])\n",
    "_,dist=langevin.run(x,y)\n"
   ]
  },
  {
   "cell_type": "code",
   "execution_count": 551,
   "id": "2541daea",
   "metadata": {},
   "outputs": [],
   "source": [
    "VI=VI_gaussian(true_weights,true_weights.shape[0])\n",
    "_,_,distVI=VI.run(x,y)\n"
   ]
  },
  {
   "cell_type": "code",
   "execution_count": 545,
   "id": "c17b62c2",
   "metadata": {},
   "outputs": [
    {
     "data": {
      "text/plain": [
       "[<matplotlib.lines.Line2D at 0x7ff049acb8b0>]"
      ]
     },
     "execution_count": 545,
     "metadata": {},
     "output_type": "execute_result"
    },
    {
     "data": {
      "image/png": "[encoded data removed]",
      "text/plain": [
       "<Figure size 432x288 with 1 Axes>"
      ]
     },
     "metadata": {
      "needs_background": "light"
     },
     "output_type": "display_data"
    }
   ],
   "source": [
    "plt.plot(dist)"
   ]
  },
  {
   "cell_type": "code",
   "execution_count": 539,
   "id": "4e209273",
   "metadata": {},
   "outputs": [
    {
     "data": {
      "text/plain": [
       "[<matplotlib.lines.Line2D at 0x7ff068ab9970>]"
      ]
     },
     "execution_count": 539,
     "metadata": {},
     "output_type": "execute_result"
    },
    {
     "data": {
      "image/png": "[encoded data removed]",
      "text/plain": [
       "<Figure size 432x288 with 1 Axes>"
      ]
     },
     "metadata": {
      "needs_background": "light"
     },
     "output_type": "display_data"
    }
   ],
   "source": [
    "plt.plot(distVI)"
   ]
  },
  {
   "cell_type": "code",
   "execution_count": null,
   "id": "fc6f94f1",
   "metadata": {},
   "outputs": [],
   "source": []
  },
  {
   "cell_type": "code",
   "execution_count": null,
   "id": "65645a22",
   "metadata": {},
   "outputs": [],
   "source": []
  },
  {
   "cell_type": "code",
   "execution_count": null,
   "id": "c9450c4b",
   "metadata": {},
   "outputs": [],
   "source": []
  }
 ],
 "metadata": {
  "kernelspec": {
   "display_name": "Python 3 (ipykernel)",
   "language": "python",
   "name": "python3"
  },
  "language_info": {
   "codemirror_mode": {
    "name": "ipython",
    "version": 3
   },
   "file_extension": ".py",
   "mimetype": "text/x-python",
   "name": "python",
   "nbconvert_exporter": "python",
   "pygments_lexer": "ipython3",
   "version": "3.9.12"
  }
 },
 "nbformat": 4,
 "nbformat_minor": 5
}
