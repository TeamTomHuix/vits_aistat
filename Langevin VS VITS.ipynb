{
 "cells": [
  {
   "cell_type": "markdown",
   "id": "c2b56884",
   "metadata": {},
   "source": [
    "**Comparaision VITS/Langevin**"
   ]
  },
  {
   "cell_type": "markdown",
   "id": "c2ca4c29",
   "metadata": {},
   "source": [
    "Data : \n",
    "\n",
    "Return \n",
    "- X, of dimention, n_samples, n_features\n",
    "- Y of dimention n_targets  * n_samples\n",
    "- theta star is true_weights\n",
    "\n",
    "A faire varier pour notre problème : \n",
    "\n",
    "- 1) Imporn_features with n_informative features pour l'exploration à montrer\n",
    "- 2) effective_rank : (int)  The approximate number of singular vectors required to explain most of the input data by linear combinations. \n"
   ]
  },
  {
   "cell_type": "markdown",
   "id": "8b7ff204",
   "metadata": {},
   "source": []
  },
  {
   "cell_type": "code",
   "execution_count": 639,
   "id": "3337f35d",
   "metadata": {},
   "outputs": [],
   "source": [
    "from sklearn.datasets._samples_generator import check_array, check_random_state, make_low_rank_matrix\n",
    "import numpy as np\n",
    "from sklearn.utils import shuffle as util_shuffle\n",
    "import matplotlib.pyplot as plt\n",
    "\n",
    "from collections import deque"
   ]
  },
  {
   "cell_type": "code",
   "execution_count": 1009,
   "id": "21231455",
   "metadata": {},
   "outputs": [],
   "source": [
    "def regression_model(\n",
    "    n_samples=100,\n",
    "    n_features=100,\n",
    "    n_informative=10,\n",
    "    n_targets=1,\n",
    "    bias=0.0,\n",
    "    effective_rank=None,\n",
    "    tail_strength=0.9,\n",
    "    noise=1,\n",
    "    shuffle=True,\n",
    "    coef=True,\n",
    "    random_state=None,\n",
    "    lbd=1\n",
    "):\n",
    "    \n",
    "    n_informative = min(n_features, n_informative)\n",
    "    generator_ground = check_random_state(20)\n",
    "    generator=check_random_state(random_state)\n",
    "    \n",
    "    if effective_rank is None:\n",
    "        # Randomly generate a well conditioned input set\n",
    "        X = generator.standard_normal(size=(n_samples, n_features))\n",
    "    else:\n",
    "        # Randomly generate a low rank, fat tail input set\n",
    "        X = make_low_rank_matrix(\n",
    "            n_samples=n_samples,\n",
    "            n_features=n_features,\n",
    "            effective_rank=effective_rank,\n",
    "            tail_strength=tail_strength,\n",
    "            random_state=generator,\n",
    "        )\n",
    "        X/=np.linalg.norm(X,2,axis=1,keepdims=True)\n",
    "\n",
    "    # Autre méthode pour matrice mal conditionnnée\n",
    "    #n_samples=100\n",
    "    #gauss_matrix= np.random.normal(size=(20,n_features))\n",
    "   # X=gauss_matrix[np.random.randint(gauss_matrix.shape[0], size=n_samples), : ]\n",
    "\n",
    "    #print(\"cond\",np.linalg.cond(X.T@X))\n",
    "                    \n",
    "    ground_truth = np.zeros((n_features, n_targets))\n",
    "    ground_truth[:n_informative, :] = 10* generator_ground.normal(\n",
    "        size=(n_informative, n_targets)\n",
    "    )\n",
    "    # normalised\n",
    "    ground_truth/=np.linalg.norm(ground_truth,2)\n",
    "\n",
    "    y = np.dot(X, ground_truth) + bias\n",
    "\n",
    "    # Add noise\n",
    "    if noise > 0.0:\n",
    "        y += generator.normal(scale=noise, size=y.shape)\n",
    "\n",
    "    # Randomly permute samples and features\n",
    "    if shuffle:\n",
    "        X, y = util_shuffle(X, y, random_state=20)\n",
    "\n",
    "        indices = np.arange(n_features)\n",
    "        generator_ground.shuffle(indices)\n",
    "        X[:, :] = X[:, indices]\n",
    "        ground_truth = ground_truth[indices]\n",
    "\n",
    "    y = np.squeeze(y)\n",
    "\n",
    "    if coef:\n",
    "        return X, y, np.squeeze(ground_truth) , np.linalg.cond( lbd* np.eye(n_features) + X.T@X)\n",
    "    else:\n",
    "        return X, y , np.linalg.cond( lbd* np.eye(n_features) + X.T@X)"
   ]
  },
  {
   "cell_type": "code",
   "execution_count": 1005,
   "id": "61d22114",
   "metadata": {},
   "outputs": [
    {
     "name": "stdout",
     "output_type": "stream",
     "text": [
      "[[ 0.11245996 -0.11872164  0.64857369 ... -1.1999966   0.66383183\n",
      "   0.89689624]\n",
      " [-1.74324102  0.60559428  0.50887434 ...  0.59673519  0.50497758\n",
      "  -0.05532543]\n",
      " [-0.28713033 -0.42175444  1.10323653 ... -1.37966938  0.5785633\n",
      "   0.95384869]\n",
      " ...\n",
      " [-0.58978335  0.00960997  1.25726639 ...  0.13605808 -0.54954424\n",
      "   0.45928532]\n",
      " [ 0.71009402  0.93649514  1.40370055 ...  0.59239348 -0.65908166\n",
      "   1.45079301]\n",
      " [-0.88608848  0.28437769 -0.92058949 ... -0.60196953  0.03537242\n",
      "   0.76163015]]\n"
     ]
    }
   ],
   "source": [
    "x, y, true_weights ,_= regression_model(n_samples=10000, n_features=50, n_informative=50, n_targets=1, \n",
    " bias=0.0, effective_rank=None, \n",
    " tail_strength=0.5, noise=0.0, \n",
    " shuffle=True, coef=True, random_state=None)\n",
    "print( x)"
   ]
  },
  {
   "cell_type": "markdown",
   "id": "c4ea5a7e",
   "metadata": {},
   "source": [
    "**Use ill conditionned matrix**"
   ]
  },
  {
   "cell_type": "code",
   "execution_count": 1032,
   "id": "947a2eca",
   "metadata": {},
   "outputs": [],
   "source": [
    "class LMC():\n",
    "    \n",
    "    def __init__(self, true_param, dimention,max_iter,lbd,eta,h,K=50):\n",
    "        \n",
    "        self.dimention=dimention\n",
    "        self.lbd=lbd\n",
    "        self.eta=eta\n",
    "        self.true_param=true_param\n",
    "        self.V=self.lbd*np.eye(self.dimention) + x.T@x\n",
    "        self.b=y@x\n",
    "        self.max_iter=max_iter\n",
    "        self.h=h\n",
    "        \n",
    "        \n",
    "    def gradient(self,theta,y,x):\n",
    "        \n",
    "        return (self.V@theta)-self.b\n",
    "        \n",
    "    def update_mean(self, mean, gradient, h,T):\n",
    "        #print(\"grad\",np.linalg.norm(h * gradient),  'bruit', np.linalg.norm(np.sqrt( 2 * h /self.eta) *np.random.normal( size=(self.dimention, 1)).squeeze() ) )\n",
    "        return mean - h * gradient + np.sqrt( 2 * h /self.eta) *np.random.normal( size=(self.dimention, 1)).squeeze() \n",
    "        \n",
    "    def run(self,x,y):\n",
    "        \n",
    "        # initilialisation mean\n",
    "        theta=np.zeros(self.dimention)\n",
    "        dists_mean=[]\n",
    "        dists_theta=[]\n",
    "        cov_norms=[]\n",
    "        thetas=deque([],maxlen=10)\n",
    "           \n",
    "        for t in range(self.max_iter):\n",
    "            \n",
    "            grad=self.gradient(theta,y,x)\n",
    "    \n",
    "            theta=self.update_mean(theta,grad,self.h,self.eta)\n",
    "            \n",
    "            thetas.append(theta)\n",
    "            \n",
    "            mean=np.mean(thetas,axis=0)\n",
    "            #cov=np.cov(thetas[-10:])\n",
    "                #print(mean)\n",
    "            dists_mean.append(np.linalg.norm(self.true_param-mean,ord=2))\n",
    "            dists_theta.append(np.linalg.norm(self.true_param-theta,ord=2))\n",
    "            #cov_norms.append(np.linalg.norm(cov))\n",
    "        #print( self.true_param-mean)\n",
    "        return mean ,dists_mean,dists_theta   #,  cov_norms\n",
    "        \n"
   ]
  },
  {
   "cell_type": "code",
   "execution_count": 1057,
   "id": "dde3ae73",
   "metadata": {},
   "outputs": [
    {
     "ename": "IndentationError",
     "evalue": "expected an indented block (962269529.py, line 75)",
     "output_type": "error",
     "traceback": [
      "\u001b[0;36m  Input \u001b[0;32mIn [1057]\u001b[0;36m\u001b[0m\n\u001b[0;31m    mean=np.zeros(self.dimention)\u001b[0m\n\u001b[0m    ^\u001b[0m\n\u001b[0;31mIndentationError\u001b[0m\u001b[0;31m:\u001b[0m expected an indented block\n"
     ]
    }
   ],
   "source": [
    "class VI_gaussian():\n",
    "\n",
    "    def __init__(self,true_param,dimention,max_iter,lbd,eta,h,approx=True,K=10):\n",
    "        \n",
    "        self.dimention=dimention\n",
    "        self.lbd=lbd\n",
    "        self.eta=eta\n",
    "        self.approx=approx\n",
    "        self.true_param=true_param\n",
    "        self.K=K\n",
    "        self.V=self.lbd*np.eye(self.dimention) + x.T@x\n",
    "        self.b=b=y@x\n",
    "        self.hessian=self.eta*(self.lbd*np.eye(self.dimention) + x.T@x)\n",
    "        self.max_iter=max_iter\n",
    "        self.h=h\n",
    "        \n",
    "    def gradient(self,theta,y,x):\n",
    "        return (self.eta*(self.V@theta-self.b))\n",
    "        \n",
    "    \n",
    "    \n",
    "    def update_mean(self, mean, gradient, h):\n",
    "        return mean - h * gradient\n",
    "    \n",
    "    def update_cov(self, cov_semi, cov_semi_inv, hessian, h):\n",
    "        cov_semi = (np.eye(self.dimention) - h * hessian) @ cov_semi + h * cov_semi_inv.T\n",
    "        \n",
    "        if self.approx:\n",
    "            cov_semi_inv = cov_semi_inv @ (np.eye(self.dimention) - h * (np.matmul(cov_semi_inv.T , cov_semi_inv) - hessian))\n",
    "        else:\n",
    "            cov_semi_inv = np.linalg.pinv(cov_semi)\n",
    "        return cov_semi, cov_semi_inv\n",
    "    \n",
    "    def sample(self, mean, cov_semi):\n",
    "        \n",
    "        \n",
    "        eps = np.random.normal( size=(self.dimention, 1))\n",
    "        theta = mean.T + (cov_semi @ eps).squeeze()\n",
    "        \n",
    "        #print(\"theta\",theta.shape)\n",
    "        return  theta.squeeze()\n",
    "    \n",
    "    def compute_cond_number(self, mean, cov_semi,label,features):\n",
    "        features, labels, mean, cov_semi, _ = utils_vector\n",
    "        theta = self.sample( mean, cov_semi)\n",
    "        regularization_hessian = 2 * self.lbd * jnp.eye(self.dimension)\n",
    "        data_hessian = np.sum(jax.vmap(self.hessian_function, in_axes=(None, 0, 0))(theta, features, labels), axis=0)\n",
    "        hessian = self.eta *  (regularization_hessian + data_hessian)\n",
    "        return np.linalg.cond(hessian)\n",
    "    \n",
    "    def run(self,x,y):\n",
    "        \n",
    "        mean=np.zeros(self.dimention)\n",
    "        cov=(1/5)*np.sqrt(1/(self.eta*self.lbd))*np.eye(self.dimention)\n",
    "        dists=[]\n",
    "        cov_inv=5*np.sqrt((self.eta*self.lbd))*np.eye(self.dimention)\n",
    "        thetas=[]\n",
    "        for t in range(self.max_iter):\n",
    "            \n",
    "            # sample\n",
    "            #for k in range(self.K):\n",
    "            theta=self.sample(mean,cov)\n",
    "            # compute grad and hessian\n",
    "            grad=self.gradient(theta,y,x)\n",
    "            \n",
    "            # Update mean and cov\n",
    "            mean=self.update_mean(mean,grad,self.h)\n",
    "            cov,cov_inv=self.update_cov(cov,cov_inv,self.hessian,self.h)\n",
    "            \n",
    "            # compute the distance\n",
    "            dists.append(np.linalg.norm(self.true_param-mean,ord=2))\n",
    "            \n",
    "        def run2(self,x,y):\n",
    "        \n",
    "        mean=np.zeros(self.dimention)\n",
    "        cov=np.sqrt(1/(self.eta*self.lbd))*np.eye(self.dimention)\n",
    "        dists=[]\n",
    "        cov_inv=np.sqrt((self.eta*self.lbd))*np.eye(self.dimention)\n",
    "        thetas=[]\n",
    "        while eps>10 in range(self.max_iter):\n",
    "            \n",
    "            # sample\n",
    "            #for k in range(self.K):\n",
    "            theta=self.sample(mean,cov)\n",
    "            # compute grad and hessian\n",
    "            grad=self.gradient(theta,y,x)\n",
    "            \n",
    "            # Update mean and cov\n",
    "            mean=self.update_mean(mean,grad,self.h)\n",
    "            cov,cov_inv=self.update_cov(cov,cov_inv,self.hessian,self.h)\n",
    "            \n",
    "            # compute the distance\n",
    "            dists.append(np.linalg.norm(self.true_param-mean,ord=2))\n",
    "            \n",
    "        return mean, cov ,dists\n",
    "    "
   ]
  },
  {
   "cell_type": "markdown",
   "id": "66bfa412",
   "metadata": {},
   "source": [
    "**Algorrithms** : Langevin : VITS"
   ]
  },
  {
   "cell_type": "code",
   "execution_count": 1062,
   "id": "83f30e69",
   "metadata": {},
   "outputs": [
    {
     "name": "stdout",
     "output_type": "stream",
     "text": [
      "[0.1752796028119212]\n"
     ]
    },
    {
     "data": {
      "image/png": "[encoded data removed]",
      "text/plain": [
       "<Figure size 432x288 with 1 Axes>"
      ]
     },
     "metadata": {
      "needs_background": "light"
     },
     "output_type": "display_data"
    }
   ],
   "source": [
    "x, y, true_weights ,_= regression_model(n_samples=2000, n_features=20, n_informative=20, n_targets=1, \n",
    " bias=0.0, effective_rank=20, \n",
    " tail_strength=0.5, noise=0.5, \n",
    " shuffle=True, coef=True, random_state=345)\n",
    "\n",
    "\n",
    "max_iter=1000\n",
    "lbd=1\n",
    "eta=1\n",
    "h=1/10000\n",
    "langevin=LMC(true_weights,true_weights.shape[0],max_iter,lbd,eta,h)\n",
    "_,dist_mean,dist_theta=langevin.run(x,y)\n",
    "\n",
    "\n",
    "\n",
    "VI=VI_gaussian(true_weights,true_weights.shape[0],max_iter,lbd,eta,h)\n",
    "_,_,distVI=VI.run(x,y)\n",
    "plt.plot(dist_mean,label=\"langevin\")\n",
    "plt.plot(distVI,label=\"VI\")\n",
    "print(distVI[-1:])\n",
    "plt.legend()\n",
    "plt.show()"
   ]
  },
  {
   "cell_type": "code",
   "execution_count": 715,
   "id": "cbc12e56",
   "metadata": {},
   "outputs": [],
   "source": [
    "x, y, true_weights = regression_model(n_samples=2000, n_features=50, n_informative=50, n_targets=1, \n",
    " bias=0.0, effective_rank=100, \n",
    " tail_strength=0.5, noise=0.0, \n",
    " shuffle=True, coef=True, random_state=None)"
   ]
  },
  {
   "cell_type": "code",
   "execution_count": 606,
   "id": "26689e4d",
   "metadata": {},
   "outputs": [
    {
     "name": "stdout",
     "output_type": "stream",
     "text": [
      "cond 1.3003925894169746\n"
     ]
    }
   ],
   "source": [
    "x, y, true_weights = regression_model(n_samples=10000, n_features=50, n_informative=50, n_targets=1, \n",
    " bias=0.0, effective_rank=None, \n",
    " tail_strength=0.5, noise=0.0, \n",
    " shuffle=True, coef=True, random_state=None)"
   ]
  },
  {
   "cell_type": "code",
   "execution_count": null,
   "id": "80ce8b4f",
   "metadata": {},
   "outputs": [],
   "source": []
  },
  {
   "cell_type": "code",
   "execution_count": null,
   "id": "e108c980",
   "metadata": {},
   "outputs": [],
   "source": []
  },
  {
   "cell_type": "code",
   "execution_count": null,
   "id": "2541daea",
   "metadata": {},
   "outputs": [],
   "source": []
  },
  {
   "cell_type": "code",
   "execution_count": null,
   "id": "c17b62c2",
   "metadata": {},
   "outputs": [],
   "source": []
  },
  {
   "cell_type": "code",
   "execution_count": 625,
   "id": "ab24e684",
   "metadata": {},
   "outputs": [
    {
     "name": "stdout",
     "output_type": "stream",
     "text": [
      "cond 6.488207646251193\n"
     ]
    }
   ],
   "source": [
    "x, y, true_weights = regression_model(n_samples=2000, n_features=50, n_informative=50, n_targets=1, \n",
    " bias=0.0, effective_rank=20, \n",
    " tail_strength=0.5, noise=0.0, \n",
    " shuffle=True, coef=True, random_state=None)"
   ]
  },
  {
   "cell_type": "code",
   "execution_count": 730,
   "id": "fc6f94f1",
   "metadata": {},
   "outputs": [
    {
     "name": "stdout",
     "output_type": "stream",
     "text": [
      "[293.750261250255]\n",
      "[339.9563821896573]\n",
      "[303.3489578113705]\n",
      "[313.30510548521056]\n",
      "[287.67773329414393]\n",
      "[262.18606001988144]\n",
      "[303.73843217390487]\n",
      "[295.1051691617341]\n",
      "[317.84341652650596]\n",
      "[291.42214972018644]\n"
     ]
    },
    {
     "data": {
      "image/png": "[encoded data removed]",
      "text/plain": [
       "<Figure size 432x288 with 1 Axes>"
      ]
     },
     "metadata": {
      "needs_background": "light"
     },
     "output_type": "display_data"
    }
   ],
   "source": [
    "def plot_func():\n",
    "    dists_langevin=[]\n",
    "    dists_VI=[]\n",
    "    dist_seed_langevin=[]\n",
    "    dist_seed_VI=[]\n",
    "    \n",
    "    ranks=[100,50 ,40,30,20,18,15,12,10,8,6]\n",
    "    ranks=[20]\n",
    "    seeds=np.arange(10)\n",
    "    \n",
    "    \n",
    "    \n",
    "    max_iter=3000\n",
    "    lbd=0.005\n",
    "    eta=12\n",
    "    h=1/500\n",
    "    \n",
    "    for seed in seeds:\n",
    "        np.random.seed(seed=seed+1000)\n",
    "        dists_langevin=[]\n",
    "        dists_VI=[]\n",
    "    \n",
    "        for rank in ranks:\n",
    "            \n",
    "            \n",
    "            x, y, true_weights = regression_model(n_samples=2000, n_features=50, n_informative=50, n_targets=1, \n",
    "                 bias=0.0, effective_rank=20, \n",
    "                 tail_strength=0.5, noise=0.5, \n",
    "                 shuffle=True, coef=True, random_state=seed)\n",
    "\n",
    "            \n",
    "            langevin=LMC(true_weights,true_weights.shape[0],max_iter,lbd,eta,h)\n",
    "            VI=VI_gaussian(true_weights,true_weights.shape[0],max_iter,lbd,eta,h)\n",
    "\n",
    "            _, dist_mean ,_= langevin.run(x,y)\n",
    "            _,_,distVI= VI.run(x,y)\n",
    "\n",
    "            print(distVI[-1:])\n",
    "            dists_langevin.append(dist_mean[-1:])\n",
    "            dists_VI.append(distVI[-1:])\n",
    "                \n",
    "        dist_seed_langevin.append(dists_langevin)\n",
    "        dist_seed_VI.append(dists_VI)\n",
    "        \n",
    "        final_langevin=np.mean(dist_seed_langevin,axis=0)\n",
    "        final_VI=np.mean(dist_seed_VI,axis=0)\n",
    "\n",
    "        \n",
    "    plt.plot(ranks,final_langevin,label=\"langevin\")\n",
    "    plt.plot(ranks,final_VI,label=\"VI\")\n",
    "    plt.legend()\n",
    "    plt.show()\n",
    "    \n",
    "plot_func()\n",
    "        \n",
    "\n",
    "\n",
    "        "
   ]
  },
  {
   "cell_type": "code",
   "execution_count": 1061,
   "id": "851273ae",
   "metadata": {},
   "outputs": [
    {
     "data": {
      "image/png": "[encoded data removed]",
      "text/plain": [
       "<Figure size 432x288 with 1 Axes>"
      ]
     },
     "metadata": {
      "needs_background": "light"
     },
     "output_type": "display_data"
    }
   ],
   "source": [
    "dists_langevin=[]\n",
    "dists_VI=[]\n",
    "dist_seed_langevin=[]\n",
    "dist_seed_VI=[]\n",
    "    \n",
    "#ranks=[100,50 ,40,30,20,18,15,12,10,9,8,7,6,5,4,3]\n",
    "ranks=[10,9,8,7,6,5,4,3,2]\n",
    "#ranks=[20]\n",
    "seeds=np.arange(10)+1\n",
    "    \n",
    "    \n",
    "max_iter=500\n",
    "lbd=0.005\n",
    "eta=12\n",
    "h=1/500\n",
    "    \n",
    "    \n",
    "max_iter=200\n",
    "lbd=1\n",
    "eta=1\n",
    "h=1/10000    \n",
    "\n",
    "conds=[]   \n",
    "for rank in ranks:\n",
    "    \n",
    "    for seed in seeds:\n",
    "        np.random.seed(seed=seed+1000)\n",
    "        final_langevin=[]\n",
    "        final_VI=[]\n",
    "        \n",
    "            \n",
    "        \n",
    "        x, y, true_weights,cond = regression_model(n_samples=2000, n_features=20, n_informative=20, n_targets=1, \n",
    "                 bias=0.0, effective_rank=rank, \n",
    "                 tail_strength=0.5, noise=0.5, lbd=lbd,\n",
    "                 shuffle=True, coef=True, random_state=seed)\n",
    "\n",
    "            \n",
    "        langevin=LMC(true_weights,true_weights.shape[0],max_iter,lbd,eta,h)\n",
    "        VI=VI_gaussian(true_weights,true_weights.shape[0],max_iter,lbd,eta,h)\n",
    "\n",
    "        _, dist_mean ,_= langevin.run(x,y)\n",
    "        _,_,distVI= VI.run(x,y)\n",
    "\n",
    "        \n",
    "        dists_langevin.append(dist_mean[-1:])\n",
    "        dists_VI.append(distVI[-1:])\n",
    "      \n",
    "    conds.append(cond)\n",
    "    final_langevin=np.mean(dists_langevin,axis=0)\n",
    "    final_VI=np.mean(dists_VI,axis=0)\n",
    "        \n",
    "                \n",
    "    dist_seed_langevin.append(final_langevin)\n",
    "    dist_seed_VI.append(final_VI)\n",
    "        \n",
    "\n",
    "\n",
    "        \n",
    "plt.plot(conds,dist_seed_langevin,label=\"langevin\")\n",
    "plt.plot(conds,dist_seed_VI,label=\"VI\")\n",
    "plt.xlabel(\"cond\")\n",
    "plt.ylabel(\"distance to \\theta\")\n",
    "plt.legend()\n",
    "plt.show()\n",
    "    "
   ]
  },
  {
   "cell_type": "code",
   "execution_count": null,
   "id": "65645a22",
   "metadata": {},
   "outputs": [],
   "source": []
  },
  {
   "cell_type": "code",
   "execution_count": null,
   "id": "c9450c4b",
   "metadata": {},
   "outputs": [],
   "source": []
  }
 ],
 "metadata": {
  "kernelspec": {
   "display_name": "Python 3 (ipykernel)",
   "language": "python",
   "name": "python3"
  },
  "language_info": {
   "codemirror_mode": {
    "name": "ipython",
    "version": 3
   },
   "file_extension": ".py",
   "mimetype": "text/x-python",
   "name": "python",
   "nbconvert_exporter": "python",
   "pygments_lexer": "ipython3",
   "version": "3.9.12"
  }
 },
 "nbformat": 4,
 "nbformat_minor": 5
}
