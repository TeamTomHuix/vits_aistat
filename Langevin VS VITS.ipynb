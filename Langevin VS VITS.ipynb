{
 "cells": [
  {
   "cell_type": "markdown",
   "id": "c2b56884",
   "metadata": {},
   "source": [
    "**Comparaision VITS/Langevin**"
   ]
  },
  {
   "cell_type": "markdown",
   "id": "c2ca4c29",
   "metadata": {},
   "source": [
    "Data : \n",
    "\n",
    "Return \n",
    "- X, of dimention, n_samples, n_features\n",
    "- Y of dimention n_targets  * n_samples\n",
    "- theta star is true_weights\n",
    "\n",
    "\n",
    "\n",
    "A fiare varier pour notre problème : \n",
    "\n",
    "- 1) Imporn_features with n_informative features pour l'exploration à montrer\n",
    "- 2) effective_rank : (int)  The approximate number of singular vectors required to explain most of the input data by linear combinations. \n",
    "\n",
    "\n",
    "\n",
    "\n",
    "\n",
    "bias =0"
   ]
  },
  {
   "cell_type": "markdown",
   "id": "8b7ff204",
   "metadata": {},
   "source": [
    "A faire varier : n_informative pour le coté exploration"
   ]
  },
  {
   "cell_type": "code",
   "execution_count": 446,
   "id": "3337f35d",
   "metadata": {},
   "outputs": [],
   "source": [
    "from sklearn.datasets._samples_generator import check_array, check_random_state, make_low_rank_matrix\n",
    "import numpy as np\n",
    "from sklearn.utils import shuffle as util_shuffle"
   ]
  },
  {
   "cell_type": "code",
   "execution_count": 447,
   "id": "21231455",
   "metadata": {},
   "outputs": [],
   "source": [
    "def regression_model(\n",
    "    n_samples=100,\n",
    "    n_features=100,\n",
    "    n_informative=10,\n",
    "    n_targets=1,\n",
    "    bias=0.0,\n",
    "    effective_rank=None,\n",
    "    tail_strength=0.9,\n",
    "    noise=1,\n",
    "    shuffle=True,\n",
    "    coef=True,\n",
    "    random_state=None,\n",
    "):\n",
    "    \n",
    "    n_informative = min(n_features, n_informative)\n",
    "    generator = check_random_state(random_state)\n",
    "\n",
    "    if effective_rank is None:\n",
    "        # Randomly generate a well conditioned input set\n",
    "        X = generator.standard_normal(size=(n_samples, n_features))\n",
    "    else:\n",
    "        # Randomly generate a low rank, fat tail input set\n",
    "        X = make_low_rank_matrix(\n",
    "            n_samples=n_samples,\n",
    "            n_features=n_features,\n",
    "            effective_rank=effective_rank,\n",
    "            tail_strength=tail_strength,\n",
    "            random_state=generator,\n",
    "        )\n",
    "\n",
    "    \n",
    "    #n_samples=100\n",
    "    #gauss_matrix= np.random.normal(size=(20,n_features))\n",
    "   # X=gauss_matrix[np.random.randint(gauss_matrix.shape[0], size=n_samples), : ]\n",
    "\n",
    "    print(\"cond\",np.linalg.cond(X.T@X))\n",
    "                    \n",
    "    ground_truth = np.zeros((n_features, n_targets))\n",
    "    ground_truth[:n_informative, :] = 100 * generator.uniform(\n",
    "        size=(n_informative, n_targets)\n",
    "    )\n",
    "\n",
    "    y = np.dot(X, ground_truth) + bias\n",
    "\n",
    "    # Add noise\n",
    "    if noise > 0.0:\n",
    "        y += generator.normal(scale=noise, size=y.shape)\n",
    "\n",
    "    # Randomly permute samples and features\n",
    "    if shuffle:\n",
    "        X, y = util_shuffle(X, y, random_state=generator)\n",
    "\n",
    "        indices = np.arange(n_features)\n",
    "        generator.shuffle(indices)\n",
    "        X[:, :] = X[:, indices]\n",
    "        ground_truth = ground_truth[indices]\n",
    "\n",
    "    y = np.squeeze(y)\n",
    "\n",
    "    if coef:\n",
    "        return X, y, np.squeeze(ground_truth)\n",
    "    else:\n",
    "        return X, y"
   ]
  },
  {
   "cell_type": "code",
   "execution_count": 448,
   "id": "96faa958",
   "metadata": {},
   "outputs": [
    {
     "name": "stdout",
     "output_type": "stream",
     "text": [
      "cond 26.743577769117046\n"
     ]
    }
   ],
   "source": [
    "generator = check_random_state(None)\n",
    "X = make_low_rank_matrix(\n",
    "            n_samples=100,\n",
    "            n_features=20,\n",
    "            effective_rank=2,\n",
    "            tail_strength=0.5,\n",
    "            random_state=generator,\n",
    "        )\n",
    "print(\"cond\",np.linalg.cond(X.T@X))"
   ]
  },
  {
   "cell_type": "code",
   "execution_count": 449,
   "id": "61d22114",
   "metadata": {},
   "outputs": [
    {
     "name": "stdout",
     "output_type": "stream",
     "text": [
      "cond 104.8951235624614\n"
     ]
    }
   ],
   "source": [
    "X, y, true_weights = regression_model(n_samples=2000, n_features=50, n_informative=50, n_targets=1, \n",
    " bias=0.0, effective_rank=3, \n",
    " tail_strength=0.5, noise=0.0, \n",
    " shuffle=True, coef=True, random_state=None)"
   ]
  },
  {
   "cell_type": "code",
   "execution_count": 450,
   "id": "f14f6f2d",
   "metadata": {},
   "outputs": [
    {
     "data": {
      "text/plain": [
       "((2000, 50), (2000,))"
      ]
     },
     "execution_count": 450,
     "metadata": {},
     "output_type": "execute_result"
    }
   ],
   "source": [
    "X.shape, y.shape"
   ]
  },
  {
   "cell_type": "code",
   "execution_count": null,
   "id": "21fe1d08",
   "metadata": {},
   "outputs": [],
   "source": []
  },
  {
   "cell_type": "markdown",
   "id": "e6269f8b",
   "metadata": {},
   "source": [
    "**Use only somes informative features for exmploration between Langevin and VITS**"
   ]
  },
  {
   "cell_type": "code",
   "execution_count": 452,
   "id": "ac2f89ef",
   "metadata": {},
   "outputs": [
    {
     "name": "stdout",
     "output_type": "stream",
     "text": [
      "cond 3.346632597087284\n"
     ]
    }
   ],
   "source": [
    "X, y, true_weights = regression_model(n_samples=200, n_features=20, n_informative=10, n_targets=1, \n",
    " bias=0.0, effective_rank=None, \n",
    " tail_strength=0.5, noise=0.0, \n",
    " shuffle=True, coef=True, random_state=None)"
   ]
  },
  {
   "cell_type": "code",
   "execution_count": null,
   "id": "54af1361",
   "metadata": {},
   "outputs": [],
   "source": []
  },
  {
   "cell_type": "markdown",
   "id": "c4ea5a7e",
   "metadata": {},
   "source": [
    "**Use ill conditionned matrix**"
   ]
  },
  {
   "cell_type": "code",
   "execution_count": 479,
   "id": "88070c0d",
   "metadata": {},
   "outputs": [
    {
     "name": "stdout",
     "output_type": "stream",
     "text": [
      "cond 104.89512356246179\n"
     ]
    }
   ],
   "source": [
    "x, y, true_weights = regression_model(n_samples=2000, n_features=50, n_informative=50, n_targets=1, \n",
    " bias=0.0, effective_rank=3, \n",
    " tail_strength=0.5, noise=0.0, \n",
    " shuffle=True, coef=True, random_state=None)"
   ]
  },
  {
   "cell_type": "code",
   "execution_count": 480,
   "id": "947a2eca",
   "metadata": {},
   "outputs": [],
   "source": [
    "class LMC():\n",
    "    \n",
    "    def __init__(self, true_param, dimention):\n",
    "        \n",
    "        self.dimention=dimention\n",
    "        self.lbd=1\n",
    "        self.eta=1\n",
    "        self.true_param=true_param\n",
    "        \n",
    "    def gradient(self,theta,y,x):\n",
    "        V=self.lbd*np.eye(self.dimention) + x.T@x\n",
    "        b=np.dot(y,x)\n",
    "        return self.eta*(V@theta-b)\n",
    "        \n",
    "    def hessian(self,x):\n",
    "        return self.eta*(self.lbd*np.eye(self.dimention) + x.T@x)\n",
    "        \n",
    "    def sample(self, mean ):\n",
    "        \n",
    "        eps = np.random.normal( size=(self.dimention, 1))\n",
    "        theta = (mean.T +  self.eta* eps).squeeze()\n",
    "        return  theta\n",
    "\n",
    "    def update_mean(self, mean, gradient, h,T):\n",
    "        return mean - h * gradient + T *np.random.normal( size=(self.dimention, 1))\n",
    "    \n",
    "    def run(self,x,y,max_iter=10000):\n",
    "        \n",
    "        # initilialisation mean\n",
    "        mean=np.zeros(self.dimention)\n",
    "        dists=[]\n",
    "           \n",
    "        for t in range(max_iter):\n",
    "            \n",
    "            h=1/(t+1)\n",
    "            # sample\n",
    "            theta=self.sample(mean)\n",
    "            # compute grad and hessian\n",
    "            grad=self.gradient(theta,y,x)\n",
    "\n",
    "            # Update mean and cov\n",
    "            mean=self.update_mean(mean,grad,h,self.eta)\n",
    "            \n",
    "            # compute the distance\n",
    "            dists.append(np.linalg.norm(self.true_param-mean))\n",
    "            \n",
    "        return mean ,dists\n",
    "        \n",
    "class VI_gaussian():\n",
    "\n",
    "    def __init__(self,true_param,dimention,approx=False,):\n",
    "        \n",
    "        self.dimention=dimention\n",
    "        self.lbd=1\n",
    "        self.eta=1\n",
    "        self.approx=approx\n",
    "        self.true_param=true_param\n",
    "        \n",
    "    def gradient(self,theta,y,x):\n",
    "        V=self.lbd*np.eye(self.dimention) + x.T@x\n",
    "       \n",
    "        b=np.dot(y,x)\n",
    "        return self.eta*(V*theta-b)\n",
    "        \n",
    "    def hessian(self,x):\n",
    "        return self.eta*(self.lbd*np.eye(self.dimention) + x.T@x)\n",
    "    \n",
    "    \n",
    "    def update_mean(self, mean, gradient, h):\n",
    "        return mean - h * gradient\n",
    "    \n",
    "    def update_cov(self, cov_semi, cov_semi_inv, hessian, h):\n",
    "        cov_semi = (np.eye(self.dimention) - h * hessian) @ cov_semi + h * cov_semi_inv.T\n",
    "        \n",
    "        if self.approx:\n",
    "            cov_semi_inv = cov_semi_inv @ (np.eye(self.dimention) - h * (np.matmul(cov_semi_inv.T , cov_semi_inv) - hessian))\n",
    "        else:\n",
    "            cov_semi_inv = np.linalg.inv(cov_semi)\n",
    "        return cov_semi, cov_semi_inv\n",
    "    \n",
    "    def sample(self, mean, cov_semi):\n",
    "        \n",
    "        eps = np.random.normal( size=(self.dimention, 1))\n",
    "        theta = (mean.T + cov_semi @ eps).squeeze()\n",
    "        return  theta\n",
    "    \n",
    "    def compute_cond_number(self, mean, cov_semi,label,features):\n",
    "        features, labels, mean, cov_semi, _ = utils_vector\n",
    "        theta = self.sample( mean, cov_semi)\n",
    "        regularization_hessian = 2 * self.lbd * jnp.eye(self.dimension)\n",
    "        data_hessian = np.sum(jax.vmap(self.hessian_function, in_axes=(None, 0, 0))(theta, features, labels), axis=0)\n",
    "        hessian = self.eta *  (regularization_hessian + data_hessian)\n",
    "        return np.linalg.cond(hessian)\n",
    "    \n",
    "    def run(self,x,y,max_iter=100):\n",
    "        \n",
    "        # initilialisation, comment déjà pour la cov ?\n",
    "        mean=np.zeros(self.dimention)\n",
    "        cov=self.eta* np.eye(self.dimention)\n",
    "        dists=[]\n",
    "        cov_inv=(1/self.eta)* np.eye(self.dimention)\n",
    "        \n",
    "        for t in range(max_iter):\n",
    "            h=1/(t+1)\n",
    "            # sample\n",
    "            theta=self.sample(mean,cov)\n",
    "            # compute grad and hessian\n",
    "            grad,hess=self.gradient(theta,y,x),self.hessian(x)\n",
    "            \n",
    "            # Update mean and cov\n",
    "            mean=self.update_mean(mean,grad,h)\n",
    "            cov,cov_inv=self.update_cov(cov,cov_inv,hess,h)\n",
    "            \n",
    "            # compute the distance\n",
    "            dists.append(np.linalg.norm(self.true_param-mean))\n",
    "            \n",
    "        return mean, cov ,dists\n",
    "    \n",
    "            "
   ]
  },
  {
   "cell_type": "code",
   "execution_count": 459,
   "id": "cb4a581d",
   "metadata": {},
   "outputs": [],
   "source": [
    "import matplotlib.pyplot as plt"
   ]
  },
  {
   "cell_type": "code",
   "execution_count": null,
   "id": "4d8e6bec",
   "metadata": {},
   "outputs": [],
   "source": []
  },
  {
   "cell_type": "markdown",
   "id": "66bfa412",
   "metadata": {},
   "source": [
    "**Algorrithms** : Langevin : VITS"
   ]
  },
  {
   "cell_type": "code",
   "execution_count": 475,
   "id": "83f30e69",
   "metadata": {},
   "outputs": [],
   "source": [
    "\n",
    "langevin=LMC(true_weights,true_weights.shape[0])\n",
    "_,dist=langevin.run(x,y)\n"
   ]
  },
  {
   "cell_type": "code",
   "execution_count": 476,
   "id": "2541daea",
   "metadata": {},
   "outputs": [],
   "source": [
    "VI=VI_gaussian(true_weights,true_weights.shape[0])\n",
    "_,_,distVI=VI.run(x,y)\n"
   ]
  },
  {
   "cell_type": "code",
   "execution_count": 477,
   "id": "c17b62c2",
   "metadata": {},
   "outputs": [
    {
     "data": {
      "text/plain": [
       "[<matplotlib.lines.Line2D at 0x7ff049830220>]"
      ]
     },
     "execution_count": 477,
     "metadata": {},
     "output_type": "execute_result"
    },
    {
     "data": {
      "image/png": "[encoded data removed]",
      "text/plain": [
       "<Figure size 432x288 with 1 Axes>"
      ]
     },
     "metadata": {
      "needs_background": "light"
     },
     "output_type": "display_data"
    }
   ],
   "source": [
    "plt.plot(dist)"
   ]
  },
  {
   "cell_type": "code",
   "execution_count": 478,
   "id": "90244783",
   "metadata": {},
   "outputs": [
    {
     "data": {
      "text/plain": [
       "[<matplotlib.lines.Line2D at 0x7ff03147b070>]"
      ]
     },
     "execution_count": 478,
     "metadata": {},
     "output_type": "execute_result"
    },
    {
     "data": {
      "image/png": "[encoded data removed]",
      "text/plain": [
       "<Figure size 432x288 with 1 Axes>"
      ]
     },
     "metadata": {
      "needs_background": "light"
     },
     "output_type": "display_data"
    }
   ],
   "source": [
    "plt.plot(distVI)"
   ]
  },
  {
   "cell_type": "code",
   "execution_count": null,
   "id": "fc6f94f1",
   "metadata": {},
   "outputs": [],
   "source": []
  },
  {
   "cell_type": "code",
   "execution_count": null,
   "id": "65645a22",
   "metadata": {},
   "outputs": [],
   "source": []
  },
  {
   "cell_type": "code",
   "execution_count": null,
   "id": "c9450c4b",
   "metadata": {},
   "outputs": [],
   "source": []
  }
 ],
 "metadata": {
  "kernelspec": {
   "display_name": "Python 3 (ipykernel)",
   "language": "python",
   "name": "python3"
  },
  "language_info": {
   "codemirror_mode": {
    "name": "ipython",
    "version": 3
   },
   "file_extension": ".py",
   "mimetype": "text/x-python",
   "name": "python",
   "nbconvert_exporter": "python",
   "pygments_lexer": "ipython3",
   "version": "3.9.12"
  }
 },
 "nbformat": 4,
 "nbformat_minor": 5
}
